{
 "cells": [
  {
   "cell_type": "markdown",
   "metadata": {},
   "source": [
    "# Financial Planning with APIs and Simulations\n",
    "\n",
    "In this Challenge, you’ll create two financial analysis tools by using a single Jupyter notebook:\n",
    "\n",
    "Part 1: A financial planner for emergencies. The members will be able to use this tool to visualize their current savings. The members can then determine if they have enough reserves for an emergency fund.\n",
    "\n",
    "Part 2: A financial planner for retirement. This tool will forecast the performance of their retirement portfolio in 30 years. To do this, the tool will make an Alpaca API call via the Alpaca SDK to get historical price data for use in Monte Carlo simulations.\n",
    "\n",
    "You’ll use the information from the Monte Carlo simulation to answer questions about the portfolio in your Jupyter notebook.\n",
    "\n"
   ]
  },
  {
   "cell_type": "code",
   "execution_count": 1,
   "metadata": {},
   "outputs": [],
   "source": [
    "# Import the required libraries and dependencies\n",
    "import os\n",
    "import requests\n",
    "import json\n",
    "import pandas as pd\n",
    "from dotenv import load_dotenv\n",
    "import alpaca_trade_api as tradeapi\n",
    "from MCForecastTools import MCSimulation\n",
    "\n",
    "%matplotlib inline"
   ]
  },
  {
   "cell_type": "code",
   "execution_count": 2,
   "metadata": {},
   "outputs": [
    {
     "data": {
      "text/plain": [
       "True"
      ]
     },
     "execution_count": 2,
     "metadata": {},
     "output_type": "execute_result"
    }
   ],
   "source": [
    "# Load the environment variables from the .env file\n",
    "#by calling the load_dotenv function\n",
    "load_dotenv()"
   ]
  },
  {
   "cell_type": "markdown",
   "metadata": {},
   "source": [
    "## Part 1: Create a Financial Planner for Emergencies"
   ]
  },
  {
   "cell_type": "markdown",
   "metadata": {},
   "source": [
    "### Evaluate the Cryptocurrency Wallet by Using the Requests Library\n",
    "\n",
    "In this section, you’ll determine the current value of a member’s cryptocurrency wallet. You’ll collect the current prices for the Bitcoin and Ethereum cryptocurrencies by using the Python Requests library. For the prototype, you’ll assume that the member holds the 1.2 Bitcoins (BTC) and 5.3 Ethereum coins (ETH). To do all this, complete the following steps:\n",
    "\n",
    "1. Create a variable named `monthly_income`, and set its value to `12000`.\n",
    "\n",
    "2. Use the Requests library to get the current price (in US dollars) of Bitcoin (BTC) and Ethereum (ETH) by using the API endpoints that the starter code supplies.\n",
    "\n",
    "3. Navigate the JSON response object to access the current price of each coin, and store each in a variable.\n",
    "\n",
    "    > **Hint** Note the specific identifier for each cryptocurrency in the API JSON response. The Bitcoin identifier is `1`, and the Ethereum identifier is `1027`.\n",
    "\n",
    "4. Calculate the value, in US dollars, of the current amount of each cryptocurrency and of the entire cryptocurrency wallet.\n",
    "\n"
   ]
  },
  {
   "cell_type": "code",
   "execution_count": 3,
   "metadata": {},
   "outputs": [],
   "source": [
    "# The current number of coins for each cryptocurrency asset held in the portfolio.\n",
    "btc_coins = 1.2\n",
    "eth_coins = 5.3"
   ]
  },
  {
   "cell_type": "markdown",
   "metadata": {},
   "source": [
    "#### Step 1: Create a variable named `monthly_income`, and set its value to `12000`."
   ]
  },
  {
   "cell_type": "code",
   "execution_count": 4,
   "metadata": {},
   "outputs": [],
   "source": [
    "# The monthly amount for the member's household income\n",
    "monthly_income = 12000"
   ]
  },
  {
   "cell_type": "markdown",
   "metadata": {},
   "source": [
    "#### Review the endpoint URLs for the API calls to Free Crypto API in order to get the current pricing information for both BTC and ETH."
   ]
  },
  {
   "cell_type": "code",
   "execution_count": 5,
   "metadata": {},
   "outputs": [],
   "source": [
    "# The Free Crypto API Call endpoint URLs for the held cryptocurrency assets\n",
    "btc_url = \"https://api.alternative.me/v2/ticker/Bitcoin/?convert=USD\"\n",
    "eth_url = \"https://api.alternative.me/v2/ticker/Ethereum/?convert=USD\""
   ]
  },
  {
   "cell_type": "markdown",
   "metadata": {},
   "source": [
    "#### Step 2. Use the Requests library to get the current price (in US dollars) of Bitcoin (BTC) and Ethereum (ETH) by using the API endpoints that the starter code supplied."
   ]
  },
  {
   "cell_type": "code",
   "execution_count": 6,
   "metadata": {},
   "outputs": [
    {
     "name": "stdout",
     "output_type": "stream",
     "text": [
      "{\n",
      "  \"data\": {\n",
      "    \"1\": {\n",
      "      \"circulating_supply\": 19099775,\n",
      "      \"id\": 1,\n",
      "      \"last_updated\": 1658459623,\n",
      "      \"max_supply\": 21000000,\n",
      "      \"name\": \"Bitcoin\",\n",
      "      \"quotes\": {\n",
      "        \"USD\": {\n",
      "          \"market_cap\": 439791525565,\n",
      "          \"percent_change_1h\": -0.0707724819947156,\n",
      "          \"percent_change_24h\": 1.12133436735646,\n",
      "          \"percent_change_7d\": 11.8963318726111,\n",
      "          \"percentage_change_1h\": -0.0707724819947156,\n",
      "          \"percentage_change_24h\": 1.12133436735646,\n",
      "          \"percentage_change_7d\": 11.8963318726111,\n",
      "          \"price\": 23022.0,\n",
      "          \"volume_24h\": 60485335434\n",
      "        }\n",
      "      },\n",
      "      \"rank\": 1,\n",
      "      \"symbol\": \"BTC\",\n",
      "      \"total_supply\": 19099775,\n",
      "      \"website_slug\": \"bitcoin\"\n",
      "    }\n",
      "  },\n",
      "  \"metadata\": {\n",
      "    \"error\": null,\n",
      "    \"num_cryptocurrencies\": 3116,\n",
      "    \"timestamp\": 1658459623\n",
      "  }\n",
      "}\n"
     ]
    }
   ],
   "source": [
    "# Using the Python requests library, make an API call to access the current price of BTC\n",
    "btc_response = requests.get(btc_url).json()\n",
    "\n",
    "# Use the json.dumps function to review the response data from the API call\n",
    "# Use the indent and sort_keys parameters to make the response object readable\n",
    "print(json.dumps(btc_response, indent=2, sort_keys=True))"
   ]
  },
  {
   "cell_type": "code",
   "execution_count": 7,
   "metadata": {},
   "outputs": [
    {
     "name": "stdout",
     "output_type": "stream",
     "text": [
      "{\n",
      "  \"data\": {\n",
      "    \"1027\": {\n",
      "      \"circulating_supply\": 119774118,\n",
      "      \"id\": 1027,\n",
      "      \"last_updated\": 1658459598,\n",
      "      \"max_supply\": 119774118,\n",
      "      \"name\": \"Ethereum\",\n",
      "      \"quotes\": {\n",
      "        \"USD\": {\n",
      "          \"market_cap\": 187640620115,\n",
      "          \"percent_change_1h\": -0.0270886757611074,\n",
      "          \"percent_change_24h\": 5.09046336017184,\n",
      "          \"percent_change_7d\": 31.5658965921267,\n",
      "          \"percentage_change_1h\": -0.0270886757611074,\n",
      "          \"percentage_change_24h\": 5.09046336017184,\n",
      "          \"percentage_change_7d\": 31.5658965921267,\n",
      "          \"price\": 1567.12,\n",
      "          \"volume_24h\": 18025645300\n",
      "        }\n",
      "      },\n",
      "      \"rank\": 2,\n",
      "      \"symbol\": \"ETH\",\n",
      "      \"total_supply\": 119774118,\n",
      "      \"website_slug\": \"ethereum\"\n",
      "    }\n",
      "  },\n",
      "  \"metadata\": {\n",
      "    \"error\": null,\n",
      "    \"num_cryptocurrencies\": 3116,\n",
      "    \"timestamp\": 1658459598\n",
      "  }\n",
      "}\n"
     ]
    }
   ],
   "source": [
    "# Using the Python requests library, make an API call to access the current price ETH\n",
    "eth_response = requests.get(eth_url).json()\n",
    "\n",
    "# Use the json.dumps function to review the response data from the API call\n",
    "# Use the indent and sort_keys parameters to make the response object readable\n",
    "print(json.dumps(eth_response, indent=2, sort_keys=True))"
   ]
  },
  {
   "cell_type": "markdown",
   "metadata": {},
   "source": [
    "#### Step 3: Navigate the JSON response object to access the current price of each coin, and store each in a variable."
   ]
  },
  {
   "cell_type": "code",
   "execution_count": 8,
   "metadata": {},
   "outputs": [
    {
     "name": "stdout",
     "output_type": "stream",
     "text": [
      "23022.0\n"
     ]
    }
   ],
   "source": [
    "# Navigate the BTC response object to access the current price of BTC\n",
    "btc_price = btc_response['data']['1']['quotes']['USD']['price']\n",
    "\n",
    "# Print the current price of BTC\n",
    "print(btc_price)"
   ]
  },
  {
   "cell_type": "code",
   "execution_count": 9,
   "metadata": {},
   "outputs": [
    {
     "name": "stdout",
     "output_type": "stream",
     "text": [
      "1567.12\n"
     ]
    }
   ],
   "source": [
    "# Navigate the BTC response object to access the current price of ETH\n",
    "eth_price = eth_response['data']['1027']['quotes']['USD']['price']\n",
    "\n",
    "# Print the current price of ETH\n",
    "print(eth_price)"
   ]
  },
  {
   "cell_type": "markdown",
   "metadata": {},
   "source": [
    "### Step 4: Calculate the value, in US dollars, of the current amount of each cryptocurrency and of the entire cryptocurrency wallet."
   ]
  },
  {
   "cell_type": "code",
   "execution_count": 10,
   "metadata": {},
   "outputs": [
    {
     "name": "stdout",
     "output_type": "stream",
     "text": [
      "27626.399999999998\n"
     ]
    }
   ],
   "source": [
    "# Compute the current value of the BTC holding \n",
    "btc_value = btc_price * btc_coins\n",
    "\n",
    "# Print current value of your holding in BTC\n",
    "print(btc_value)"
   ]
  },
  {
   "cell_type": "code",
   "execution_count": 11,
   "metadata": {},
   "outputs": [
    {
     "name": "stdout",
     "output_type": "stream",
     "text": [
      "8305.735999999999\n"
     ]
    }
   ],
   "source": [
    "# Compute the current value of the ETH holding \n",
    "eth_value = eth_price * eth_coins\n",
    "\n",
    "# Print current value of your holding in ETH\n",
    "print(eth_value)"
   ]
  },
  {
   "cell_type": "code",
   "execution_count": 12,
   "metadata": {},
   "outputs": [
    {
     "name": "stdout",
     "output_type": "stream",
     "text": [
      "35932.136\n"
     ]
    }
   ],
   "source": [
    "# Compute the total value of the cryptocurrency wallet\n",
    "# Add the value of the BTC holding to the value of the ETH holding\n",
    "total_crypto_wallet = btc_value + eth_value\n",
    "\n",
    "# Print current cryptocurrency wallet balance\n",
    "print(total_crypto_wallet)"
   ]
  },
  {
   "cell_type": "markdown",
   "metadata": {},
   "source": [
    "### Evaluate the Stock and Bond Holdings by Using the Alpaca SDK\n",
    "\n",
    "In this section, you’ll determine the current value of a member’s stock and bond holdings. You’ll make an API call to Alpaca via the Alpaca SDK to get the current closing prices of the SPDR S&P 500 ETF Trust (ticker: SPY) and of the iShares Core US Aggregate Bond ETF (ticker: AGG). For the prototype, assume that the member holds 110 shares of SPY, which represents the stock portion of their portfolio, and 200 shares of AGG, which represents the bond portion. To do all this, complete the following steps:\n",
    "\n",
    "1. In the `Starter_Code` folder, create an environment file (`.env`) to store the values of your Alpaca API key and Alpaca secret key.\n",
    "\n",
    "2. Set the variables for the Alpaca API and secret keys. Using the Alpaca SDK, create the Alpaca `tradeapi.REST` object. In this object, include the parameters for the Alpaca API key, the secret key, and the version number.\n",
    "\n",
    "3. Set the following parameters for the Alpaca API call:\n",
    "\n",
    "    - `tickers`: Use the tickers for the member’s stock and bond holdings.\n",
    "\n",
    "    - `timeframe`: Use a time frame of one day.\n",
    "\n",
    "    - `start_date` and `end_date`: Use the same date for these parameters, and format them with the date of the previous weekday (or `2020-08-07`). This is because you want the one closing price for the most-recent trading day.\n",
    "\n",
    "4. Get the current closing prices for `SPY` and `AGG` by using the Alpaca `get_bars` function. Format the response as a Pandas DataFrame by including the `df` property at the end of the `get_bars` function.\n",
    "\n",
    "5. Navigating the Alpaca response DataFrame, select the `SPY` and `AGG` closing prices, and store them as variables.\n",
    "\n",
    "6. Calculate the value, in US dollars, of the current amount of shares in each of the stock and bond portions of the portfolio, and print the results.\n"
   ]
  },
  {
   "cell_type": "markdown",
   "metadata": {},
   "source": [
    "#### Review the total number of shares held in both (SPY) and (AGG)."
   ]
  },
  {
   "cell_type": "code",
   "execution_count": 13,
   "metadata": {},
   "outputs": [],
   "source": [
    "# Current amount of shares held in both the stock (SPY) and bond (AGG) portion of the portfolio.\n",
    "spy_shares = 110\n",
    "agg_shares = 200\n"
   ]
  },
  {
   "cell_type": "markdown",
   "metadata": {},
   "source": [
    "#### Step 1: In the `Starter_Code` folder, create an environment file (`.env`) to store the values of your Alpaca API key and Alpaca secret key."
   ]
  },
  {
   "cell_type": "markdown",
   "metadata": {},
   "source": [
    "#### Step 2: Set the variables for the Alpaca API and secret keys. Using the Alpaca SDK, create the Alpaca `tradeapi.REST` object. In this object, include the parameters for the Alpaca API key, the secret key, and the version number."
   ]
  },
  {
   "cell_type": "code",
   "execution_count": 14,
   "metadata": {},
   "outputs": [
    {
     "data": {
      "text/plain": [
       "str"
      ]
     },
     "metadata": {},
     "output_type": "display_data"
    },
    {
     "data": {
      "text/plain": [
       "str"
      ]
     },
     "metadata": {},
     "output_type": "display_data"
    }
   ],
   "source": [
    "# Set the variables for the Alpaca API and secret keys\n",
    "alpaca_api_key = os.getenv('ALPACA_API_KEY')\n",
    "alpaca_secret_key = os.getenv('ALPACA_SECRET_KEY')\n",
    "display(type(alpaca_api_key))\n",
    "display(type(alpaca_secret_key))\n",
    "# Create the Alpaca tradeapi.REST object\n",
    "alpaca = tradeapi.REST(\n",
    "    alpaca_api_key,\n",
    "    alpaca_secret_key,\n",
    "    api_version='v2')"
   ]
  },
  {
   "cell_type": "markdown",
   "metadata": {},
   "source": [
    "#### Step 3: Set the following parameters for the Alpaca API call:\n",
    "\n",
    "- `tickers`: Use the tickers for the member’s stock and bond holdings.\n",
    "\n",
    "- `timeframe`: Use a time frame of one day.\n",
    "\n",
    "- `start_date` and `end_date`: Use the same date for these parameters, and format them with the date of the previous weekday (or `2020-08-07`). This is because you want the one closing price for the most-recent trading day.\n"
   ]
  },
  {
   "cell_type": "code",
   "execution_count": 15,
   "metadata": {},
   "outputs": [],
   "source": [
    "# Set the tickers for both the bond and stock portion of the portfolio\n",
    "tickers= ['SPY','AGG']\n",
    "\n",
    "# Set timeframe to 1Day\n",
    "timeframe= '1Day'\n",
    "\n",
    "# Format current date as ISO format\n",
    "# Set both the start and end date at the date of your prior weekday \n",
    "# This will give you the closing price of the previous trading day\n",
    "# Alternatively you can use a start and end date of 2020-08-07\n",
    "start_date = pd.Timestamp(\"2022-07-20\", tz=\"America/New_York\").isoformat()\n",
    "end_date = pd.Timestamp(\"2022-07-20\", tz=\"America/New_York\").isoformat()\n"
   ]
  },
  {
   "cell_type": "markdown",
   "metadata": {},
   "source": [
    "#### Step 4: Get the current closing prices for `SPY` and `AGG` by using the Alpaca `get_bars` function. Format the response as a Pandas DataFrame by including the `df` property at the end of the `get_bars` function."
   ]
  },
  {
   "cell_type": "code",
   "execution_count": 16,
   "metadata": {},
   "outputs": [
    {
     "data": {
      "text/html": [
       "<div>\n",
       "<style scoped>\n",
       "    .dataframe tbody tr th:only-of-type {\n",
       "        vertical-align: middle;\n",
       "    }\n",
       "\n",
       "    .dataframe tbody tr th {\n",
       "        vertical-align: top;\n",
       "    }\n",
       "\n",
       "    .dataframe thead tr th {\n",
       "        text-align: left;\n",
       "    }\n",
       "\n",
       "    .dataframe thead tr:last-of-type th {\n",
       "        text-align: right;\n",
       "    }\n",
       "</style>\n",
       "<table border=\"1\" class=\"dataframe\">\n",
       "  <thead>\n",
       "    <tr>\n",
       "      <th></th>\n",
       "      <th colspan=\"7\" halign=\"left\">SPY</th>\n",
       "      <th colspan=\"7\" halign=\"left\">AGG</th>\n",
       "    </tr>\n",
       "    <tr>\n",
       "      <th></th>\n",
       "      <th>open</th>\n",
       "      <th>high</th>\n",
       "      <th>low</th>\n",
       "      <th>close</th>\n",
       "      <th>volume</th>\n",
       "      <th>trade_count</th>\n",
       "      <th>vwap</th>\n",
       "      <th>open</th>\n",
       "      <th>high</th>\n",
       "      <th>low</th>\n",
       "      <th>close</th>\n",
       "      <th>volume</th>\n",
       "      <th>trade_count</th>\n",
       "      <th>vwap</th>\n",
       "    </tr>\n",
       "    <tr>\n",
       "      <th>timestamp</th>\n",
       "      <th></th>\n",
       "      <th></th>\n",
       "      <th></th>\n",
       "      <th></th>\n",
       "      <th></th>\n",
       "      <th></th>\n",
       "      <th></th>\n",
       "      <th></th>\n",
       "      <th></th>\n",
       "      <th></th>\n",
       "      <th></th>\n",
       "      <th></th>\n",
       "      <th></th>\n",
       "      <th></th>\n",
       "    </tr>\n",
       "  </thead>\n",
       "  <tbody>\n",
       "    <tr>\n",
       "      <th>2022-07-20 04:00:00+00:00</th>\n",
       "      <td>392.5</td>\n",
       "      <td>396.26</td>\n",
       "      <td>391.03</td>\n",
       "      <td>394.77</td>\n",
       "      <td>70078151</td>\n",
       "      <td>525951</td>\n",
       "      <td>394.158894</td>\n",
       "      <td>102.16</td>\n",
       "      <td>102.17</td>\n",
       "      <td>101.665</td>\n",
       "      <td>101.71</td>\n",
       "      <td>6109282</td>\n",
       "      <td>17836</td>\n",
       "      <td>101.767981</td>\n",
       "    </tr>\n",
       "  </tbody>\n",
       "</table>\n",
       "</div>"
      ],
      "text/plain": [
       "                             SPY                                    \\\n",
       "                            open    high     low   close    volume   \n",
       "timestamp                                                            \n",
       "2022-07-20 04:00:00+00:00  392.5  396.26  391.03  394.77  70078151   \n",
       "\n",
       "                                                      AGG                   \\\n",
       "                          trade_count        vwap    open    high      low   \n",
       "timestamp                                                                    \n",
       "2022-07-20 04:00:00+00:00      525951  394.158894  102.16  102.17  101.665   \n",
       "\n",
       "                                                                    \n",
       "                            close   volume trade_count        vwap  \n",
       "timestamp                                                           \n",
       "2022-07-20 04:00:00+00:00  101.71  6109282       17836  101.767981  "
      ]
     },
     "execution_count": 16,
     "metadata": {},
     "output_type": "execute_result"
    }
   ],
   "source": [
    "# Use the Alpaca get_bars function to get current closing prices the portfolio\n",
    "# Be sure to set the `df` property after the function to format the response object as a DataFrame\n",
    "prices_df = alpaca.get_bars(\n",
    "    tickers,\n",
    "    timeframe,\n",
    "    start=start_date,\n",
    "    end=end_date\n",
    ").df\n",
    "\n",
    "# Reorganize the DataFrame\n",
    "SPY = prices_df[prices_df['symbol']=='SPY'].drop('symbol',axis=1)\n",
    "AGG = prices_df[prices_df['symbol']=='AGG'].drop('symbol',axis=1)\n",
    "\n",
    "# Concatenate the ticker DataFrames\n",
    "prices_df = pd.concat([SPY,AGG],axis=1,keys=['SPY','AGG'])\n",
    "\n",
    "# Review the first 5 rows of the Alpaca DataFrame\n",
    "prices_df.head()"
   ]
  },
  {
   "cell_type": "markdown",
   "metadata": {},
   "source": [
    "#### Step 5: Navigating the Alpaca response DataFrame, select the `SPY` and `AGG` closing prices, and store them as variables."
   ]
  },
  {
   "cell_type": "code",
   "execution_count": 17,
   "metadata": {},
   "outputs": [
    {
     "name": "stdout",
     "output_type": "stream",
     "text": [
      "101.71\n"
     ]
    }
   ],
   "source": [
    "# Access the closing price for AGG from the Alpaca DataFrame\n",
    "# Converting the value to a floating point number\n",
    "agg_close_price = float(prices_df['AGG']['close'])\n",
    "\n",
    "# Print the AGG closing price\n",
    "print(agg_close_price)"
   ]
  },
  {
   "cell_type": "code",
   "execution_count": 18,
   "metadata": {},
   "outputs": [
    {
     "name": "stdout",
     "output_type": "stream",
     "text": [
      "394.77\n"
     ]
    }
   ],
   "source": [
    "# Access the closing price for SPY from the Alpaca DataFrame\n",
    "# Converting the value to a floating point number\n",
    "spy_close_price = float(prices_df['SPY']['close'])\n",
    "\n",
    "# Print the SPY closing price\n",
    "print(spy_close_price)\n"
   ]
  },
  {
   "cell_type": "markdown",
   "metadata": {},
   "source": [
    "#### Step 6: Calculate the value, in US dollars, of the current amount of shares in each of the stock and bond portions of the portfolio, and print the results."
   ]
  },
  {
   "cell_type": "code",
   "execution_count": 19,
   "metadata": {},
   "outputs": [
    {
     "name": "stdout",
     "output_type": "stream",
     "text": [
      "20342.0\n"
     ]
    }
   ],
   "source": [
    "# Calculate the current value of the bond portion of the portfolio\n",
    "agg_value = agg_shares * agg_close_price\n",
    "\n",
    "# Print the current value of the bond portfolio\n",
    "print(agg_value)\n"
   ]
  },
  {
   "cell_type": "code",
   "execution_count": 20,
   "metadata": {},
   "outputs": [
    {
     "name": "stdout",
     "output_type": "stream",
     "text": [
      "43424.7\n"
     ]
    }
   ],
   "source": [
    "# Calculate the current value of the stock portion of the portfolio\n",
    "spy_value = spy_shares * spy_close_price\n",
    "\n",
    "# Print the current value of the stock portfolio\n",
    "print(spy_value)\n"
   ]
  },
  {
   "cell_type": "code",
   "execution_count": 21,
   "metadata": {},
   "outputs": [
    {
     "name": "stdout",
     "output_type": "stream",
     "text": [
      "63766.7\n"
     ]
    }
   ],
   "source": [
    "# Calculate the total value of the stock and bond portion of the portfolio\n",
    "total_stocks_bonds = agg_value + spy_value\n",
    "\n",
    "# Print the current balance of the stock and bond portion of the portfolio\n",
    "print(total_stocks_bonds)"
   ]
  },
  {
   "cell_type": "code",
   "execution_count": 22,
   "metadata": {},
   "outputs": [
    {
     "name": "stdout",
     "output_type": "stream",
     "text": [
      "99698.836\n"
     ]
    }
   ],
   "source": [
    "# Calculate the total value of the member's entire savings portfolio\n",
    "# Add the value of the cryptocurrency walled to the value of the total stocks and bonds\n",
    "total_portfolio = total_stocks_bonds + total_crypto_wallet\n",
    "\n",
    "# Print current cryptocurrency wallet balance\n",
    "print(total_portfolio)\n"
   ]
  },
  {
   "cell_type": "markdown",
   "metadata": {},
   "source": [
    "### Evaluate the Emergency Fund\n",
    "\n",
    "In this section, you’ll use the valuations for the cryptocurrency wallet and for the stock and bond portions of the portfolio to determine if the credit union member has enough savings to build an emergency fund into their financial plan. To do this, complete the following steps:\n",
    "\n",
    "1. Create a Python list named `savings_data` that has two elements. The first element contains the total value of the cryptocurrency wallet. The second element contains the total value of the stock and bond portions of the portfolio.\n",
    "\n",
    "2. Use the `savings_data` list to create a Pandas DataFrame named `savings_df`, and then display this DataFrame. The function to create the DataFrame should take the following three parameters:\n",
    "\n",
    "    - `savings_data`: Use the list that you just created.\n",
    "\n",
    "    - `columns`: Set this parameter equal to a Python list with a single value called `amount`.\n",
    "\n",
    "    - `index`: Set this parameter equal to a Python list with the values of `crypto` and `stock/bond`.\n",
    "\n",
    "3. Use the `savings_df` DataFrame to plot a pie chart that visualizes the composition of the member’s portfolio. The y-axis of the pie chart uses `amount`. Be sure to add a title.\n",
    "\n",
    "4. Using Python, determine if the current portfolio has enough to create an emergency fund as part of the member’s financial plan. Ideally, an emergency fund should equal to three times the member’s monthly income. To do this, implement the following steps:\n",
    "\n",
    "    1. Create a variable named `emergency_fund_value`, and set it equal to three times the value of the member’s `monthly_income` of $12000. (You set this earlier in Part 1).\n",
    "\n",
    "    2. Create a series of three if statements to determine if the member’s total portfolio is large enough to fund the emergency portfolio:\n",
    "\n",
    "        1. If the total portfolio value is greater than the emergency fund value, display a message congratulating the member for having enough money in this fund.\n",
    "\n",
    "        2. Else if the total portfolio value is equal to the emergency fund value, display a message congratulating the member on reaching this important financial goal.\n",
    "\n",
    "        3. Else the total portfolio is less than the emergency fund value, so display a message showing how many dollars away the member is from reaching the goal. (Subtract the total portfolio value from the emergency fund value.)\n"
   ]
  },
  {
   "cell_type": "markdown",
   "metadata": {},
   "source": [
    "#### Step 1: Create a Python list named `savings_data` that has two elements. The first element contains the total value of the cryptocurrency wallet. The second element contains the total value of the stock and bond portions of the portfolio."
   ]
  },
  {
   "cell_type": "code",
   "execution_count": 23,
   "metadata": {},
   "outputs": [
    {
     "data": {
      "text/plain": [
       "[35932.136, 63766.7]"
      ]
     },
     "execution_count": 23,
     "metadata": {},
     "output_type": "execute_result"
    }
   ],
   "source": [
    "# Consolidate financial assets data into a Python list\n",
    "savings_data = [total_crypto_wallet, total_stocks_bonds]\n",
    "# Review the Python list savings_data\n",
    "savings_data    "
   ]
  },
  {
   "cell_type": "markdown",
   "metadata": {},
   "source": [
    "#### Step 2: Use the `savings_data` list to create a Pandas DataFrame named `savings_df`, and then display this DataFrame. The function to create the DataFrame should take the following three parameters:\n",
    "\n",
    "- `savings_data`: Use the list that you just created.\n",
    "\n",
    "- `columns`: Set this parameter equal to a Python list with a single value called `amount`.\n",
    "\n",
    "- `index`: Set this parameter equal to a Python list with the values of `crypto` and `stock/bond`.\n"
   ]
  },
  {
   "cell_type": "code",
   "execution_count": 24,
   "metadata": {},
   "outputs": [
    {
     "data": {
      "text/html": [
       "<div>\n",
       "<style scoped>\n",
       "    .dataframe tbody tr th:only-of-type {\n",
       "        vertical-align: middle;\n",
       "    }\n",
       "\n",
       "    .dataframe tbody tr th {\n",
       "        vertical-align: top;\n",
       "    }\n",
       "\n",
       "    .dataframe thead th {\n",
       "        text-align: right;\n",
       "    }\n",
       "</style>\n",
       "<table border=\"1\" class=\"dataframe\">\n",
       "  <thead>\n",
       "    <tr style=\"text-align: right;\">\n",
       "      <th></th>\n",
       "      <th>amount</th>\n",
       "    </tr>\n",
       "  </thead>\n",
       "  <tbody>\n",
       "    <tr>\n",
       "      <th>crypto</th>\n",
       "      <td>35932.136</td>\n",
       "    </tr>\n",
       "    <tr>\n",
       "      <th>stock/bond</th>\n",
       "      <td>63766.700</td>\n",
       "    </tr>\n",
       "  </tbody>\n",
       "</table>\n",
       "</div>"
      ],
      "text/plain": [
       "               amount\n",
       "crypto      35932.136\n",
       "stock/bond  63766.700"
      ]
     },
     "execution_count": 24,
     "metadata": {},
     "output_type": "execute_result"
    }
   ],
   "source": [
    "# Create a Pandas DataFrame called savings_df \n",
    "savings_df = pd.DataFrame(savings_data, columns=['amount'],index=['crypto','stock/bond'])\n",
    "\n",
    "# Display the savings_df DataFrame\n",
    "savings_df\n"
   ]
  },
  {
   "cell_type": "markdown",
   "metadata": {},
   "source": [
    "#### Step 3: Use the `savings_df` DataFrame to plot a pie chart that visualizes the composition of the member’s portfolio. The y-axis of the pie chart uses `amount`. Be sure to add a title."
   ]
  },
  {
   "cell_type": "code",
   "execution_count": 25,
   "metadata": {},
   "outputs": [
    {
     "data": {
      "text/plain": [
       "<AxesSubplot:title={'center':'Pie chart of Portfolio'}, ylabel='amount'>"
      ]
     },
     "execution_count": 25,
     "metadata": {},
     "output_type": "execute_result"
    },
    {
     "data": {
      "image/png": "[encoded data removed]",
      "text/plain": [
       "<Figure size 720x504 with 1 Axes>"
      ]
     },
     "metadata": {},
     "output_type": "display_data"
    }
   ],
   "source": [
    "# Plot the total value of the member's portfolio (crypto and stock/bond) in a pie chart\n",
    "savings_df.plot(y='amount',kind='pie',title='Pie chart of Portfolio',figsize=(10,7))"
   ]
  },
  {
   "cell_type": "markdown",
   "metadata": {},
   "source": [
    "#### Step 4: Using Python, determine if the current portfolio has enough to create an emergency fund as part of the member’s financial plan. Ideally, an emergency fund should equal to three times the member’s monthly income. To do this, implement the following steps:\n",
    "\n",
    "Step 1. Create a variable named `emergency_fund_value`, and set it equal to three times the value of the member’s `monthly_income` of 12000. (You set this earlier in Part 1).\n",
    "\n",
    "Step 2. Create a series of three if statements to determine if the member’s total portfolio is large enough to fund the emergency portfolio:\n",
    "\n",
    "* If the total portfolio value is greater than the emergency fund value, display a message congratulating the member for having enough money in this fund.\n",
    "\n",
    "* Else if the total portfolio value is equal to the emergency fund value, display a message congratulating the member on reaching this important financial goal.\n",
    "\n",
    "* Else the total portfolio is less than the emergency fund value, so display a message showing how many dollars away the member is from reaching the goal. (Subtract the total portfolio value from the emergency fund value.)\n"
   ]
  },
  {
   "cell_type": "markdown",
   "metadata": {},
   "source": [
    "##### Step 4-1: Create a variable named `emergency_fund_value`, and set it equal to three times the value of the member’s `monthly_income` of 12000. (You set this earlier in Part 1)."
   ]
  },
  {
   "cell_type": "code",
   "execution_count": 26,
   "metadata": {},
   "outputs": [],
   "source": [
    "# Create a variable named emergency_fund_value\n",
    "emergency_fund_value = 3 * monthly_income\n"
   ]
  },
  {
   "cell_type": "markdown",
   "metadata": {},
   "source": [
    "##### Step 4-2: Create a series of three if statements to determine if the member’s total portfolio is large enough to fund the emergency portfolio:\n",
    "\n",
    "* If the total portfolio value is greater than the emergency fund value, display a message congratulating the member for having enough money in this fund.\n",
    "\n",
    "* Else if the total portfolio value is equal to the emergency fund value, display a message congratulating the member on reaching this important financial goal.\n",
    "\n",
    "* Else the total portfolio is less than the emergency fund value, so display a message showing how many dollars away the member is from reaching the goal. (Subtract the total portfolio value from the emergency fund value.)"
   ]
  },
  {
   "cell_type": "code",
   "execution_count": 27,
   "metadata": {},
   "outputs": [
    {
     "name": "stdout",
     "output_type": "stream",
     "text": [
      "Congratulations, you have enough money to create an emergency fund\n"
     ]
    }
   ],
   "source": [
    "# Evaluate the possibility of creating an emergency fund with 3 conditions:\n",
    "if total_portfolio > emergency_fund_value:\n",
    "    print('Congratulations, you have enough money to create an emergency fund')\n",
    "elif total_portfolio == emergency_fund_value:\n",
    "    print('Congratulations on reaching this important financial goal of having enough to create an emergency fund')\n",
    "else:\n",
    "    print(f'You are {emergency_fund_value - total_portfolio} away from reaching the goal of having enough to create an emergency fund')"
   ]
  },
  {
   "cell_type": "markdown",
   "metadata": {},
   "source": [
    "## Part 2: Create a Financial Planner for Retirement"
   ]
  },
  {
   "cell_type": "markdown",
   "metadata": {},
   "source": [
    "### Create the Monte Carlo Simulation\n",
    "\n",
    "In this section, you’ll use the MCForecastTools library to create a Monte Carlo simulation for the member’s savings portfolio. To do this, complete the following steps:\n",
    "\n",
    "1. Make an API call via the Alpaca SDK to get 3 years of historical closing prices for a traditional 60/40 portfolio split: 60% stocks (SPY) and 40% bonds (AGG).\n",
    "\n",
    "2. Run a Monte Carlo simulation of 500 samples and 30 years for the 60/40 portfolio, and then plot the results.The following image shows the overlay line plot resulting from a simulation with these characteristics. However, because a random number generator is used to run each live Monte Carlo simulation, your image will differ slightly from this exact image:\n",
    "\n",
    "![A screenshot depicts the resulting plot.](Images/5-4-monte-carlo-line-plot.png)\n",
    "\n",
    "3. Plot the probability distribution of the Monte Carlo simulation. Plot the probability distribution of the Monte Carlo simulation. The following image shows the histogram plot resulting from a simulation with these characteristics. However, because a random number generator is used to run each live Monte Carlo simulation, your image will differ slightly from this exact image:\n",
    "\n",
    "![A screenshot depicts the histogram plot.](Images/5-4-monte-carlo-histogram.png)\n",
    "\n",
    "4. Generate the summary statistics for the Monte Carlo simulation.\n",
    "\n"
   ]
  },
  {
   "cell_type": "markdown",
   "metadata": {},
   "source": [
    "#### Step 1: Make an API call via the Alpaca SDK to get 3 years of historical closing prices for a traditional 60/40 portfolio split: 60% stocks (SPY) and 40% bonds (AGG)."
   ]
  },
  {
   "cell_type": "code",
   "execution_count": 28,
   "metadata": {},
   "outputs": [],
   "source": [
    "# Set start and end dates of 3 years back from your current date\n",
    "# Alternatively, you can use an end date of 2020-08-07 and work 3 years back from that date \n",
    "start_date_monte = pd.Timestamp('2019-07-20', tz='America/New_York').isoformat()\n",
    "end_date_monte = pd.Timestamp('2022-07-20', tz='America/New_York').isoformat()"
   ]
  },
  {
   "cell_type": "code",
   "execution_count": 29,
   "metadata": {},
   "outputs": [
    {
     "data": {
      "text/html": [
       "<div>\n",
       "<style scoped>\n",
       "    .dataframe tbody tr th:only-of-type {\n",
       "        vertical-align: middle;\n",
       "    }\n",
       "\n",
       "    .dataframe tbody tr th {\n",
       "        vertical-align: top;\n",
       "    }\n",
       "\n",
       "    .dataframe thead tr th {\n",
       "        text-align: left;\n",
       "    }\n",
       "\n",
       "    .dataframe thead tr:last-of-type th {\n",
       "        text-align: right;\n",
       "    }\n",
       "</style>\n",
       "<table border=\"1\" class=\"dataframe\">\n",
       "  <thead>\n",
       "    <tr>\n",
       "      <th></th>\n",
       "      <th colspan=\"7\" halign=\"left\">SPY</th>\n",
       "      <th colspan=\"7\" halign=\"left\">AGG</th>\n",
       "    </tr>\n",
       "    <tr>\n",
       "      <th></th>\n",
       "      <th>open</th>\n",
       "      <th>high</th>\n",
       "      <th>low</th>\n",
       "      <th>close</th>\n",
       "      <th>volume</th>\n",
       "      <th>trade_count</th>\n",
       "      <th>vwap</th>\n",
       "      <th>open</th>\n",
       "      <th>high</th>\n",
       "      <th>low</th>\n",
       "      <th>close</th>\n",
       "      <th>volume</th>\n",
       "      <th>trade_count</th>\n",
       "      <th>vwap</th>\n",
       "    </tr>\n",
       "    <tr>\n",
       "      <th>timestamp</th>\n",
       "      <th></th>\n",
       "      <th></th>\n",
       "      <th></th>\n",
       "      <th></th>\n",
       "      <th></th>\n",
       "      <th></th>\n",
       "      <th></th>\n",
       "      <th></th>\n",
       "      <th></th>\n",
       "      <th></th>\n",
       "      <th></th>\n",
       "      <th></th>\n",
       "      <th></th>\n",
       "      <th></th>\n",
       "    </tr>\n",
       "  </thead>\n",
       "  <tbody>\n",
       "    <tr>\n",
       "      <th>2022-07-14 04:00:00+00:00</th>\n",
       "      <td>373.99</td>\n",
       "      <td>379.0498</td>\n",
       "      <td>371.04</td>\n",
       "      <td>377.91</td>\n",
       "      <td>89349688</td>\n",
       "      <td>637416</td>\n",
       "      <td>375.589384</td>\n",
       "      <td>101.51</td>\n",
       "      <td>101.98</td>\n",
       "      <td>101.3300</td>\n",
       "      <td>101.85</td>\n",
       "      <td>6224496</td>\n",
       "      <td>24722</td>\n",
       "      <td>101.747120</td>\n",
       "    </tr>\n",
       "    <tr>\n",
       "      <th>2022-07-15 04:00:00+00:00</th>\n",
       "      <td>382.62</td>\n",
       "      <td>385.2500</td>\n",
       "      <td>380.54</td>\n",
       "      <td>385.13</td>\n",
       "      <td>79318992</td>\n",
       "      <td>488124</td>\n",
       "      <td>383.334989</td>\n",
       "      <td>101.94</td>\n",
       "      <td>102.35</td>\n",
       "      <td>101.9000</td>\n",
       "      <td>102.25</td>\n",
       "      <td>8440151</td>\n",
       "      <td>27300</td>\n",
       "      <td>102.214854</td>\n",
       "    </tr>\n",
       "    <tr>\n",
       "      <th>2022-07-18 04:00:00+00:00</th>\n",
       "      <td>388.27</td>\n",
       "      <td>389.0900</td>\n",
       "      <td>380.66</td>\n",
       "      <td>381.95</td>\n",
       "      <td>62903915</td>\n",
       "      <td>489558</td>\n",
       "      <td>385.087984</td>\n",
       "      <td>102.00</td>\n",
       "      <td>102.03</td>\n",
       "      <td>101.7200</td>\n",
       "      <td>101.92</td>\n",
       "      <td>4949050</td>\n",
       "      <td>18802</td>\n",
       "      <td>101.892830</td>\n",
       "    </tr>\n",
       "    <tr>\n",
       "      <th>2022-07-19 04:00:00+00:00</th>\n",
       "      <td>386.17</td>\n",
       "      <td>392.8700</td>\n",
       "      <td>385.40</td>\n",
       "      <td>392.27</td>\n",
       "      <td>78242523</td>\n",
       "      <td>533601</td>\n",
       "      <td>389.362273</td>\n",
       "      <td>101.95</td>\n",
       "      <td>101.99</td>\n",
       "      <td>101.6615</td>\n",
       "      <td>101.78</td>\n",
       "      <td>4240277</td>\n",
       "      <td>18210</td>\n",
       "      <td>101.821971</td>\n",
       "    </tr>\n",
       "    <tr>\n",
       "      <th>2022-07-20 04:00:00+00:00</th>\n",
       "      <td>392.50</td>\n",
       "      <td>396.2600</td>\n",
       "      <td>391.03</td>\n",
       "      <td>394.77</td>\n",
       "      <td>70078151</td>\n",
       "      <td>525951</td>\n",
       "      <td>394.158894</td>\n",
       "      <td>102.16</td>\n",
       "      <td>102.17</td>\n",
       "      <td>101.6650</td>\n",
       "      <td>101.71</td>\n",
       "      <td>6109282</td>\n",
       "      <td>17836</td>\n",
       "      <td>101.767981</td>\n",
       "    </tr>\n",
       "  </tbody>\n",
       "</table>\n",
       "</div>"
      ],
      "text/plain": [
       "                              SPY                                      \\\n",
       "                             open      high     low   close    volume   \n",
       "timestamp                                                               \n",
       "2022-07-14 04:00:00+00:00  373.99  379.0498  371.04  377.91  89349688   \n",
       "2022-07-15 04:00:00+00:00  382.62  385.2500  380.54  385.13  79318992   \n",
       "2022-07-18 04:00:00+00:00  388.27  389.0900  380.66  381.95  62903915   \n",
       "2022-07-19 04:00:00+00:00  386.17  392.8700  385.40  392.27  78242523   \n",
       "2022-07-20 04:00:00+00:00  392.50  396.2600  391.03  394.77  70078151   \n",
       "\n",
       "                                                      AGG                    \\\n",
       "                          trade_count        vwap    open    high       low   \n",
       "timestamp                                                                     \n",
       "2022-07-14 04:00:00+00:00      637416  375.589384  101.51  101.98  101.3300   \n",
       "2022-07-15 04:00:00+00:00      488124  383.334989  101.94  102.35  101.9000   \n",
       "2022-07-18 04:00:00+00:00      489558  385.087984  102.00  102.03  101.7200   \n",
       "2022-07-19 04:00:00+00:00      533601  389.362273  101.95  101.99  101.6615   \n",
       "2022-07-20 04:00:00+00:00      525951  394.158894  102.16  102.17  101.6650   \n",
       "\n",
       "                                                                    \n",
       "                            close   volume trade_count        vwap  \n",
       "timestamp                                                           \n",
       "2022-07-14 04:00:00+00:00  101.85  6224496       24722  101.747120  \n",
       "2022-07-15 04:00:00+00:00  102.25  8440151       27300  102.214854  \n",
       "2022-07-18 04:00:00+00:00  101.92  4949050       18802  101.892830  \n",
       "2022-07-19 04:00:00+00:00  101.78  4240277       18210  101.821971  \n",
       "2022-07-20 04:00:00+00:00  101.71  6109282       17836  101.767981  "
      ]
     },
     "execution_count": 29,
     "metadata": {},
     "output_type": "execute_result"
    }
   ],
   "source": [
    "# Use the Alpaca get_bars function to make the API call to get the 3 years worth of pricing data\n",
    "# The tickers and timeframe parameters should have been set in Part 1 of this activity \n",
    "# The start and end dates should be updated with the information set above\n",
    "# Remember to add the df property to the end of the call so the response is returned as a DataFrame\n",
    "prices_monte_df = alpaca.get_bars(\n",
    "    tickers,\n",
    "    timeframe,\n",
    "    start=start_date_monte,\n",
    "    end=end_date_monte\n",
    ").df\n",
    "prices_monte_df\n",
    "# Reorganize the DataFrame\n",
    "# Separate ticker data\n",
    "SPY_monte = prices_monte_df[prices_monte_df['symbol']=='SPY'].drop('symbol',axis=1)\n",
    "AGG_monte = prices_monte_df[prices_monte_df['symbol']=='AGG'].drop('symbol',axis=1)\n",
    "\n",
    "# Concatenate the ticker DataFrames\n",
    "prices_monte_df = pd.concat([SPY_monte, AGG_monte], axis=1, keys=['SPY','AGG'])\n",
    "\n",
    "# Display both the first and last five rows of the DataFrame\n",
    "prices_monte_df.head()\n",
    "prices_monte_df.tail()\n"
   ]
  },
  {
   "cell_type": "markdown",
   "metadata": {},
   "source": [
    "#### Step 2: Run a Monte Carlo simulation of 500 samples and 30 years for the 60/40 portfolio, and then plot the results."
   ]
  },
  {
   "cell_type": "code",
   "execution_count": 30,
   "metadata": {},
   "outputs": [
    {
     "data": {
      "text/html": [
       "<div>\n",
       "<style scoped>\n",
       "    .dataframe tbody tr th:only-of-type {\n",
       "        vertical-align: middle;\n",
       "    }\n",
       "\n",
       "    .dataframe tbody tr th {\n",
       "        vertical-align: top;\n",
       "    }\n",
       "\n",
       "    .dataframe thead tr th {\n",
       "        text-align: left;\n",
       "    }\n",
       "\n",
       "    .dataframe thead tr:last-of-type th {\n",
       "        text-align: right;\n",
       "    }\n",
       "</style>\n",
       "<table border=\"1\" class=\"dataframe\">\n",
       "  <thead>\n",
       "    <tr>\n",
       "      <th></th>\n",
       "      <th colspan=\"8\" halign=\"left\">SPY</th>\n",
       "      <th colspan=\"8\" halign=\"left\">AGG</th>\n",
       "    </tr>\n",
       "    <tr>\n",
       "      <th></th>\n",
       "      <th>open</th>\n",
       "      <th>high</th>\n",
       "      <th>low</th>\n",
       "      <th>close</th>\n",
       "      <th>volume</th>\n",
       "      <th>trade_count</th>\n",
       "      <th>vwap</th>\n",
       "      <th>daily_return</th>\n",
       "      <th>open</th>\n",
       "      <th>high</th>\n",
       "      <th>low</th>\n",
       "      <th>close</th>\n",
       "      <th>volume</th>\n",
       "      <th>trade_count</th>\n",
       "      <th>vwap</th>\n",
       "      <th>daily_return</th>\n",
       "    </tr>\n",
       "    <tr>\n",
       "      <th>timestamp</th>\n",
       "      <th></th>\n",
       "      <th></th>\n",
       "      <th></th>\n",
       "      <th></th>\n",
       "      <th></th>\n",
       "      <th></th>\n",
       "      <th></th>\n",
       "      <th></th>\n",
       "      <th></th>\n",
       "      <th></th>\n",
       "      <th></th>\n",
       "      <th></th>\n",
       "      <th></th>\n",
       "      <th></th>\n",
       "      <th></th>\n",
       "      <th></th>\n",
       "    </tr>\n",
       "  </thead>\n",
       "  <tbody>\n",
       "    <tr>\n",
       "      <th>2019-07-22 04:00:00+00:00</th>\n",
       "      <td>297.61</td>\n",
       "      <td>298.50</td>\n",
       "      <td>297.04</td>\n",
       "      <td>297.90</td>\n",
       "      <td>45137404</td>\n",
       "      <td>186383</td>\n",
       "      <td>297.748117</td>\n",
       "      <td>NaN</td>\n",
       "      <td>111.41</td>\n",
       "      <td>111.41</td>\n",
       "      <td>111.3000</td>\n",
       "      <td>111.31</td>\n",
       "      <td>2855073</td>\n",
       "      <td>7937</td>\n",
       "      <td>111.344721</td>\n",
       "      <td>NaN</td>\n",
       "    </tr>\n",
       "    <tr>\n",
       "      <th>2019-07-23 04:00:00+00:00</th>\n",
       "      <td>299.15</td>\n",
       "      <td>300.03</td>\n",
       "      <td>298.22</td>\n",
       "      <td>300.03</td>\n",
       "      <td>44935473</td>\n",
       "      <td>208847</td>\n",
       "      <td>299.177015</td>\n",
       "      <td>0.007150</td>\n",
       "      <td>111.27</td>\n",
       "      <td>111.32</td>\n",
       "      <td>111.1600</td>\n",
       "      <td>111.20</td>\n",
       "      <td>2659305</td>\n",
       "      <td>10894</td>\n",
       "      <td>111.219201</td>\n",
       "      <td>-0.000988</td>\n",
       "    </tr>\n",
       "    <tr>\n",
       "      <th>2019-07-24 04:00:00+00:00</th>\n",
       "      <td>299.16</td>\n",
       "      <td>301.44</td>\n",
       "      <td>299.09</td>\n",
       "      <td>301.44</td>\n",
       "      <td>47738870</td>\n",
       "      <td>204882</td>\n",
       "      <td>300.570907</td>\n",
       "      <td>0.004700</td>\n",
       "      <td>111.33</td>\n",
       "      <td>111.41</td>\n",
       "      <td>111.2950</td>\n",
       "      <td>111.36</td>\n",
       "      <td>2783461</td>\n",
       "      <td>12750</td>\n",
       "      <td>111.337833</td>\n",
       "      <td>0.001439</td>\n",
       "    </tr>\n",
       "    <tr>\n",
       "      <th>2019-07-25 04:00:00+00:00</th>\n",
       "      <td>300.97</td>\n",
       "      <td>301.00</td>\n",
       "      <td>299.11</td>\n",
       "      <td>300.00</td>\n",
       "      <td>55864213</td>\n",
       "      <td>266901</td>\n",
       "      <td>300.079179</td>\n",
       "      <td>-0.004777</td>\n",
       "      <td>111.33</td>\n",
       "      <td>111.33</td>\n",
       "      <td>111.0474</td>\n",
       "      <td>111.19</td>\n",
       "      <td>2977486</td>\n",
       "      <td>11325</td>\n",
       "      <td>111.190464</td>\n",
       "      <td>-0.001527</td>\n",
       "    </tr>\n",
       "    <tr>\n",
       "      <th>2019-07-26 04:00:00+00:00</th>\n",
       "      <td>300.77</td>\n",
       "      <td>302.23</td>\n",
       "      <td>300.62</td>\n",
       "      <td>302.01</td>\n",
       "      <td>45430077</td>\n",
       "      <td>195123</td>\n",
       "      <td>301.590773</td>\n",
       "      <td>0.006700</td>\n",
       "      <td>111.32</td>\n",
       "      <td>111.32</td>\n",
       "      <td>111.1400</td>\n",
       "      <td>111.21</td>\n",
       "      <td>4669863</td>\n",
       "      <td>11477</td>\n",
       "      <td>111.195450</td>\n",
       "      <td>0.000180</td>\n",
       "    </tr>\n",
       "  </tbody>\n",
       "</table>\n",
       "</div>"
      ],
      "text/plain": [
       "                              SPY                                    \\\n",
       "                             open    high     low   close    volume   \n",
       "timestamp                                                             \n",
       "2019-07-22 04:00:00+00:00  297.61  298.50  297.04  297.90  45137404   \n",
       "2019-07-23 04:00:00+00:00  299.15  300.03  298.22  300.03  44935473   \n",
       "2019-07-24 04:00:00+00:00  299.16  301.44  299.09  301.44  47738870   \n",
       "2019-07-25 04:00:00+00:00  300.97  301.00  299.11  300.00  55864213   \n",
       "2019-07-26 04:00:00+00:00  300.77  302.23  300.62  302.01  45430077   \n",
       "\n",
       "                                                                   AGG  \\\n",
       "                          trade_count        vwap daily_return    open   \n",
       "timestamp                                                                \n",
       "2019-07-22 04:00:00+00:00      186383  297.748117          NaN  111.41   \n",
       "2019-07-23 04:00:00+00:00      208847  299.177015     0.007150  111.27   \n",
       "2019-07-24 04:00:00+00:00      204882  300.570907     0.004700  111.33   \n",
       "2019-07-25 04:00:00+00:00      266901  300.079179    -0.004777  111.33   \n",
       "2019-07-26 04:00:00+00:00      195123  301.590773     0.006700  111.32   \n",
       "\n",
       "                                                                          \\\n",
       "                             high       low   close   volume trade_count   \n",
       "timestamp                                                                  \n",
       "2019-07-22 04:00:00+00:00  111.41  111.3000  111.31  2855073        7937   \n",
       "2019-07-23 04:00:00+00:00  111.32  111.1600  111.20  2659305       10894   \n",
       "2019-07-24 04:00:00+00:00  111.41  111.2950  111.36  2783461       12750   \n",
       "2019-07-25 04:00:00+00:00  111.33  111.0474  111.19  2977486       11325   \n",
       "2019-07-26 04:00:00+00:00  111.32  111.1400  111.21  4669863       11477   \n",
       "\n",
       "                                                    \n",
       "                                 vwap daily_return  \n",
       "timestamp                                           \n",
       "2019-07-22 04:00:00+00:00  111.344721          NaN  \n",
       "2019-07-23 04:00:00+00:00  111.219201    -0.000988  \n",
       "2019-07-24 04:00:00+00:00  111.337833     0.001439  \n",
       "2019-07-25 04:00:00+00:00  111.190464    -0.001527  \n",
       "2019-07-26 04:00:00+00:00  111.195450     0.000180  "
      ]
     },
     "execution_count": 30,
     "metadata": {},
     "output_type": "execute_result"
    }
   ],
   "source": [
    "# Configure the Monte Carlo simulation to forecast 30 years cumulative returns\n",
    "# The weights should be split 40% to AGG and 60% to SPY.\n",
    "# Run 500 samples.\n",
    "MC_60_40 = MCSimulation(\n",
    "    portfolio_data = prices_monte_df,\n",
    "    weights=[.6,.4],\n",
    "    num_simulation = 500,\n",
    "    num_trading_days = 252* 30\n",
    ")\n",
    "\n",
    "# Review the simulation input data\n",
    "MC_60_40.portfolio_data.head()\n"
   ]
  },
  {
   "cell_type": "code",
   "execution_count": 31,
   "metadata": {},
   "outputs": [
    {
     "name": "stdout",
     "output_type": "stream",
     "text": [
      "Running Monte Carlo simulation number 0.\n",
      "Running Monte Carlo simulation number 10.\n",
      "Running Monte Carlo simulation number 20.\n",
      "Running Monte Carlo simulation number 30.\n",
      "Running Monte Carlo simulation number 40.\n",
      "Running Monte Carlo simulation number 50.\n",
      "Running Monte Carlo simulation number 60.\n",
      "Running Monte Carlo simulation number 70.\n",
      "Running Monte Carlo simulation number 80.\n",
      "Running Monte Carlo simulation number 90.\n",
      "Running Monte Carlo simulation number 100.\n"
     ]
    },
    {
     "name": "stderr",
     "output_type": "stream",
     "text": [
      "/Users/joshthompkins/Desktop/Fintech-Workspace/Module_5/challenge_5/MCForecastTools.py:117: PerformanceWarning: DataFrame is highly fragmented.  This is usually the result of calling `frame.insert` many times, which has poor performance.  Consider joining all columns at once using pd.concat(axis=1) instead.  To get a de-fragmented frame, use `newframe = frame.copy()`\n",
      "  portfolio_cumulative_returns[n] = (1 + sim_df.fillna(0)).cumprod()\n"
     ]
    },
    {
     "name": "stdout",
     "output_type": "stream",
     "text": [
      "Running Monte Carlo simulation number 110.\n",
      "Running Monte Carlo simulation number 120.\n",
      "Running Monte Carlo simulation number 130.\n",
      "Running Monte Carlo simulation number 140.\n",
      "Running Monte Carlo simulation number 150.\n",
      "Running Monte Carlo simulation number 160.\n",
      "Running Monte Carlo simulation number 170.\n",
      "Running Monte Carlo simulation number 180.\n",
      "Running Monte Carlo simulation number 190.\n",
      "Running Monte Carlo simulation number 200.\n",
      "Running Monte Carlo simulation number 210.\n",
      "Running Monte Carlo simulation number 220.\n",
      "Running Monte Carlo simulation number 230.\n",
      "Running Monte Carlo simulation number 240.\n",
      "Running Monte Carlo simulation number 250.\n",
      "Running Monte Carlo simulation number 260.\n",
      "Running Monte Carlo simulation number 270.\n",
      "Running Monte Carlo simulation number 280.\n",
      "Running Monte Carlo simulation number 290.\n",
      "Running Monte Carlo simulation number 300.\n",
      "Running Monte Carlo simulation number 310.\n",
      "Running Monte Carlo simulation number 320.\n",
      "Running Monte Carlo simulation number 330.\n",
      "Running Monte Carlo simulation number 340.\n",
      "Running Monte Carlo simulation number 350.\n",
      "Running Monte Carlo simulation number 360.\n",
      "Running Monte Carlo simulation number 370.\n",
      "Running Monte Carlo simulation number 380.\n",
      "Running Monte Carlo simulation number 390.\n",
      "Running Monte Carlo simulation number 400.\n",
      "Running Monte Carlo simulation number 410.\n",
      "Running Monte Carlo simulation number 420.\n",
      "Running Monte Carlo simulation number 430.\n",
      "Running Monte Carlo simulation number 440.\n",
      "Running Monte Carlo simulation number 450.\n",
      "Running Monte Carlo simulation number 460.\n",
      "Running Monte Carlo simulation number 470.\n",
      "Running Monte Carlo simulation number 480.\n",
      "Running Monte Carlo simulation number 490.\n"
     ]
    },
    {
     "data": {
      "text/html": [
       "<div>\n",
       "<style scoped>\n",
       "    .dataframe tbody tr th:only-of-type {\n",
       "        vertical-align: middle;\n",
       "    }\n",
       "\n",
       "    .dataframe tbody tr th {\n",
       "        vertical-align: top;\n",
       "    }\n",
       "\n",
       "    .dataframe thead th {\n",
       "        text-align: right;\n",
       "    }\n",
       "</style>\n",
       "<table border=\"1\" class=\"dataframe\">\n",
       "  <thead>\n",
       "    <tr style=\"text-align: right;\">\n",
       "      <th></th>\n",
       "      <th>0</th>\n",
       "      <th>1</th>\n",
       "      <th>2</th>\n",
       "      <th>3</th>\n",
       "      <th>4</th>\n",
       "      <th>5</th>\n",
       "      <th>6</th>\n",
       "      <th>7</th>\n",
       "      <th>8</th>\n",
       "      <th>9</th>\n",
       "      <th>...</th>\n",
       "      <th>490</th>\n",
       "      <th>491</th>\n",
       "      <th>492</th>\n",
       "      <th>493</th>\n",
       "      <th>494</th>\n",
       "      <th>495</th>\n",
       "      <th>496</th>\n",
       "      <th>497</th>\n",
       "      <th>498</th>\n",
       "      <th>499</th>\n",
       "    </tr>\n",
       "  </thead>\n",
       "  <tbody>\n",
       "    <tr>\n",
       "      <th>0</th>\n",
       "      <td>1.000000</td>\n",
       "      <td>1.000000</td>\n",
       "      <td>1.000000</td>\n",
       "      <td>1.000000</td>\n",
       "      <td>1.000000</td>\n",
       "      <td>1.000000</td>\n",
       "      <td>1.000000</td>\n",
       "      <td>1.000000</td>\n",
       "      <td>1.000000</td>\n",
       "      <td>1.000000</td>\n",
       "      <td>...</td>\n",
       "      <td>1.000000</td>\n",
       "      <td>1.000000</td>\n",
       "      <td>1.000000</td>\n",
       "      <td>1.000000</td>\n",
       "      <td>1.000000</td>\n",
       "      <td>1.000000</td>\n",
       "      <td>1.000000</td>\n",
       "      <td>1.000000</td>\n",
       "      <td>1.000000</td>\n",
       "      <td>1.000000</td>\n",
       "    </tr>\n",
       "    <tr>\n",
       "      <th>1</th>\n",
       "      <td>0.992854</td>\n",
       "      <td>0.996518</td>\n",
       "      <td>0.990797</td>\n",
       "      <td>0.993101</td>\n",
       "      <td>1.007535</td>\n",
       "      <td>0.986218</td>\n",
       "      <td>1.000069</td>\n",
       "      <td>0.988611</td>\n",
       "      <td>1.004413</td>\n",
       "      <td>1.013876</td>\n",
       "      <td>...</td>\n",
       "      <td>0.999408</td>\n",
       "      <td>1.002821</td>\n",
       "      <td>1.016066</td>\n",
       "      <td>0.994532</td>\n",
       "      <td>1.011547</td>\n",
       "      <td>1.001028</td>\n",
       "      <td>1.008539</td>\n",
       "      <td>1.018891</td>\n",
       "      <td>1.006749</td>\n",
       "      <td>0.998054</td>\n",
       "    </tr>\n",
       "    <tr>\n",
       "      <th>2</th>\n",
       "      <td>0.994708</td>\n",
       "      <td>0.990633</td>\n",
       "      <td>1.019316</td>\n",
       "      <td>0.991165</td>\n",
       "      <td>0.997244</td>\n",
       "      <td>0.991752</td>\n",
       "      <td>0.999852</td>\n",
       "      <td>0.991209</td>\n",
       "      <td>1.018408</td>\n",
       "      <td>1.027807</td>\n",
       "      <td>...</td>\n",
       "      <td>1.015124</td>\n",
       "      <td>0.998629</td>\n",
       "      <td>1.022001</td>\n",
       "      <td>0.990418</td>\n",
       "      <td>1.015399</td>\n",
       "      <td>1.017687</td>\n",
       "      <td>1.011666</td>\n",
       "      <td>1.027847</td>\n",
       "      <td>1.016426</td>\n",
       "      <td>0.986557</td>\n",
       "    </tr>\n",
       "    <tr>\n",
       "      <th>3</th>\n",
       "      <td>1.001630</td>\n",
       "      <td>0.994473</td>\n",
       "      <td>1.007391</td>\n",
       "      <td>0.981869</td>\n",
       "      <td>0.990909</td>\n",
       "      <td>1.017885</td>\n",
       "      <td>1.002384</td>\n",
       "      <td>0.984531</td>\n",
       "      <td>1.013243</td>\n",
       "      <td>1.024360</td>\n",
       "      <td>...</td>\n",
       "      <td>1.017030</td>\n",
       "      <td>0.988204</td>\n",
       "      <td>1.020757</td>\n",
       "      <td>1.002161</td>\n",
       "      <td>0.995000</td>\n",
       "      <td>1.017609</td>\n",
       "      <td>1.007884</td>\n",
       "      <td>1.042251</td>\n",
       "      <td>1.028446</td>\n",
       "      <td>0.982792</td>\n",
       "    </tr>\n",
       "    <tr>\n",
       "      <th>4</th>\n",
       "      <td>0.992422</td>\n",
       "      <td>0.988998</td>\n",
       "      <td>1.001011</td>\n",
       "      <td>0.980107</td>\n",
       "      <td>0.989181</td>\n",
       "      <td>1.031148</td>\n",
       "      <td>1.013225</td>\n",
       "      <td>0.999769</td>\n",
       "      <td>1.011065</td>\n",
       "      <td>1.027673</td>\n",
       "      <td>...</td>\n",
       "      <td>1.019788</td>\n",
       "      <td>0.990653</td>\n",
       "      <td>1.012176</td>\n",
       "      <td>0.986161</td>\n",
       "      <td>1.004210</td>\n",
       "      <td>0.998512</td>\n",
       "      <td>1.015870</td>\n",
       "      <td>1.049912</td>\n",
       "      <td>1.027758</td>\n",
       "      <td>0.978724</td>\n",
       "    </tr>\n",
       "    <tr>\n",
       "      <th>...</th>\n",
       "      <td>...</td>\n",
       "      <td>...</td>\n",
       "      <td>...</td>\n",
       "      <td>...</td>\n",
       "      <td>...</td>\n",
       "      <td>...</td>\n",
       "      <td>...</td>\n",
       "      <td>...</td>\n",
       "      <td>...</td>\n",
       "      <td>...</td>\n",
       "      <td>...</td>\n",
       "      <td>...</td>\n",
       "      <td>...</td>\n",
       "      <td>...</td>\n",
       "      <td>...</td>\n",
       "      <td>...</td>\n",
       "      <td>...</td>\n",
       "      <td>...</td>\n",
       "      <td>...</td>\n",
       "      <td>...</td>\n",
       "      <td>...</td>\n",
       "    </tr>\n",
       "    <tr>\n",
       "      <th>7556</th>\n",
       "      <td>4.625404</td>\n",
       "      <td>3.668978</td>\n",
       "      <td>1.465215</td>\n",
       "      <td>1.709451</td>\n",
       "      <td>7.765698</td>\n",
       "      <td>14.138444</td>\n",
       "      <td>5.190930</td>\n",
       "      <td>5.893829</td>\n",
       "      <td>6.269155</td>\n",
       "      <td>12.171175</td>\n",
       "      <td>...</td>\n",
       "      <td>2.321359</td>\n",
       "      <td>4.891185</td>\n",
       "      <td>3.024581</td>\n",
       "      <td>1.431138</td>\n",
       "      <td>2.842463</td>\n",
       "      <td>1.674468</td>\n",
       "      <td>3.267818</td>\n",
       "      <td>4.538412</td>\n",
       "      <td>8.908149</td>\n",
       "      <td>19.094868</td>\n",
       "    </tr>\n",
       "    <tr>\n",
       "      <th>7557</th>\n",
       "      <td>4.607406</td>\n",
       "      <td>3.656843</td>\n",
       "      <td>1.468015</td>\n",
       "      <td>1.712796</td>\n",
       "      <td>7.770625</td>\n",
       "      <td>14.092341</td>\n",
       "      <td>5.164086</td>\n",
       "      <td>5.792244</td>\n",
       "      <td>6.307669</td>\n",
       "      <td>11.844895</td>\n",
       "      <td>...</td>\n",
       "      <td>2.290327</td>\n",
       "      <td>4.914397</td>\n",
       "      <td>3.016407</td>\n",
       "      <td>1.430671</td>\n",
       "      <td>2.823714</td>\n",
       "      <td>1.667735</td>\n",
       "      <td>3.269515</td>\n",
       "      <td>4.590766</td>\n",
       "      <td>8.862840</td>\n",
       "      <td>18.991657</td>\n",
       "    </tr>\n",
       "    <tr>\n",
       "      <th>7558</th>\n",
       "      <td>4.594142</td>\n",
       "      <td>3.642071</td>\n",
       "      <td>1.465603</td>\n",
       "      <td>1.690081</td>\n",
       "      <td>7.895687</td>\n",
       "      <td>14.167966</td>\n",
       "      <td>5.156030</td>\n",
       "      <td>5.896970</td>\n",
       "      <td>6.235397</td>\n",
       "      <td>11.928269</td>\n",
       "      <td>...</td>\n",
       "      <td>2.287581</td>\n",
       "      <td>4.912640</td>\n",
       "      <td>3.041009</td>\n",
       "      <td>1.428077</td>\n",
       "      <td>2.851615</td>\n",
       "      <td>1.655432</td>\n",
       "      <td>3.279439</td>\n",
       "      <td>4.635571</td>\n",
       "      <td>8.821205</td>\n",
       "      <td>19.067439</td>\n",
       "    </tr>\n",
       "    <tr>\n",
       "      <th>7559</th>\n",
       "      <td>4.659809</td>\n",
       "      <td>3.610124</td>\n",
       "      <td>1.471249</td>\n",
       "      <td>1.704175</td>\n",
       "      <td>7.895189</td>\n",
       "      <td>14.186546</td>\n",
       "      <td>5.102712</td>\n",
       "      <td>5.904628</td>\n",
       "      <td>6.203952</td>\n",
       "      <td>11.789335</td>\n",
       "      <td>...</td>\n",
       "      <td>2.283669</td>\n",
       "      <td>4.859558</td>\n",
       "      <td>3.033320</td>\n",
       "      <td>1.444752</td>\n",
       "      <td>2.861482</td>\n",
       "      <td>1.637127</td>\n",
       "      <td>3.257982</td>\n",
       "      <td>4.591633</td>\n",
       "      <td>8.824420</td>\n",
       "      <td>19.242192</td>\n",
       "    </tr>\n",
       "    <tr>\n",
       "      <th>7560</th>\n",
       "      <td>4.731634</td>\n",
       "      <td>3.612794</td>\n",
       "      <td>1.486378</td>\n",
       "      <td>1.699591</td>\n",
       "      <td>7.931384</td>\n",
       "      <td>14.256457</td>\n",
       "      <td>5.094247</td>\n",
       "      <td>5.822018</td>\n",
       "      <td>6.253525</td>\n",
       "      <td>11.827367</td>\n",
       "      <td>...</td>\n",
       "      <td>2.322904</td>\n",
       "      <td>4.877702</td>\n",
       "      <td>3.035054</td>\n",
       "      <td>1.425473</td>\n",
       "      <td>2.868514</td>\n",
       "      <td>1.653151</td>\n",
       "      <td>3.198595</td>\n",
       "      <td>4.552253</td>\n",
       "      <td>8.817542</td>\n",
       "      <td>19.432147</td>\n",
       "    </tr>\n",
       "  </tbody>\n",
       "</table>\n",
       "<p>7561 rows × 500 columns</p>\n",
       "</div>"
      ],
      "text/plain": [
       "           0         1         2         3         4          5         6    \\\n",
       "0     1.000000  1.000000  1.000000  1.000000  1.000000   1.000000  1.000000   \n",
       "1     0.992854  0.996518  0.990797  0.993101  1.007535   0.986218  1.000069   \n",
       "2     0.994708  0.990633  1.019316  0.991165  0.997244   0.991752  0.999852   \n",
       "3     1.001630  0.994473  1.007391  0.981869  0.990909   1.017885  1.002384   \n",
       "4     0.992422  0.988998  1.001011  0.980107  0.989181   1.031148  1.013225   \n",
       "...        ...       ...       ...       ...       ...        ...       ...   \n",
       "7556  4.625404  3.668978  1.465215  1.709451  7.765698  14.138444  5.190930   \n",
       "7557  4.607406  3.656843  1.468015  1.712796  7.770625  14.092341  5.164086   \n",
       "7558  4.594142  3.642071  1.465603  1.690081  7.895687  14.167966  5.156030   \n",
       "7559  4.659809  3.610124  1.471249  1.704175  7.895189  14.186546  5.102712   \n",
       "7560  4.731634  3.612794  1.486378  1.699591  7.931384  14.256457  5.094247   \n",
       "\n",
       "           7         8          9    ...       490       491       492  \\\n",
       "0     1.000000  1.000000   1.000000  ...  1.000000  1.000000  1.000000   \n",
       "1     0.988611  1.004413   1.013876  ...  0.999408  1.002821  1.016066   \n",
       "2     0.991209  1.018408   1.027807  ...  1.015124  0.998629  1.022001   \n",
       "3     0.984531  1.013243   1.024360  ...  1.017030  0.988204  1.020757   \n",
       "4     0.999769  1.011065   1.027673  ...  1.019788  0.990653  1.012176   \n",
       "...        ...       ...        ...  ...       ...       ...       ...   \n",
       "7556  5.893829  6.269155  12.171175  ...  2.321359  4.891185  3.024581   \n",
       "7557  5.792244  6.307669  11.844895  ...  2.290327  4.914397  3.016407   \n",
       "7558  5.896970  6.235397  11.928269  ...  2.287581  4.912640  3.041009   \n",
       "7559  5.904628  6.203952  11.789335  ...  2.283669  4.859558  3.033320   \n",
       "7560  5.822018  6.253525  11.827367  ...  2.322904  4.877702  3.035054   \n",
       "\n",
       "           493       494       495       496       497       498        499  \n",
       "0     1.000000  1.000000  1.000000  1.000000  1.000000  1.000000   1.000000  \n",
       "1     0.994532  1.011547  1.001028  1.008539  1.018891  1.006749   0.998054  \n",
       "2     0.990418  1.015399  1.017687  1.011666  1.027847  1.016426   0.986557  \n",
       "3     1.002161  0.995000  1.017609  1.007884  1.042251  1.028446   0.982792  \n",
       "4     0.986161  1.004210  0.998512  1.015870  1.049912  1.027758   0.978724  \n",
       "...        ...       ...       ...       ...       ...       ...        ...  \n",
       "7556  1.431138  2.842463  1.674468  3.267818  4.538412  8.908149  19.094868  \n",
       "7557  1.430671  2.823714  1.667735  3.269515  4.590766  8.862840  18.991657  \n",
       "7558  1.428077  2.851615  1.655432  3.279439  4.635571  8.821205  19.067439  \n",
       "7559  1.444752  2.861482  1.637127  3.257982  4.591633  8.824420  19.242192  \n",
       "7560  1.425473  2.868514  1.653151  3.198595  4.552253  8.817542  19.432147  \n",
       "\n",
       "[7561 rows x 500 columns]"
      ]
     },
     "execution_count": 31,
     "metadata": {},
     "output_type": "execute_result"
    }
   ],
   "source": [
    "# Run the Monte Carlo simulation to forecast 30 years cumulative returns\n",
    "MC_60_40.calc_cumulative_return()\n"
   ]
  },
  {
   "cell_type": "code",
   "execution_count": 32,
   "metadata": {},
   "outputs": [
    {
     "data": {
      "image/png": "[encoded data removed]",
      "text/plain": [
       "<Figure size 432x288 with 1 Axes>"
      ]
     },
     "metadata": {
      "needs_background": "light"
     },
     "output_type": "display_data"
    }
   ],
   "source": [
    "# Visualize the 30-year Monte Carlo simulation by creating an\n",
    "# overlay line plot\n",
    "line_plot_60_40 = MC_60_40.plot_simulation()"
   ]
  },
  {
   "cell_type": "markdown",
   "metadata": {},
   "source": [
    "#### Step 3: Plot the probability distribution of the Monte Carlo simulation."
   ]
  },
  {
   "cell_type": "code",
   "execution_count": 33,
   "metadata": {},
   "outputs": [
    {
     "data": {
      "image/png": "[encoded data removed]",
      "text/plain": [
       "<Figure size 432x288 with 1 Axes>"
      ]
     },
     "metadata": {
      "needs_background": "light"
     },
     "output_type": "display_data"
    }
   ],
   "source": [
    "# Visualize the probability distribution of the 30-year Monte Carlo simulation \n",
    "# by plotting a histogram\n",
    "distribution_plot_60_40 = MC_60_40.plot_distribution()"
   ]
  },
  {
   "cell_type": "markdown",
   "metadata": {},
   "source": [
    "#### Step 4: Generate the summary statistics for the Monte Carlo simulation."
   ]
  },
  {
   "cell_type": "code",
   "execution_count": 34,
   "metadata": {},
   "outputs": [
    {
     "name": "stdout",
     "output_type": "stream",
     "text": [
      "count           500.000000\n",
      "mean              6.492065\n",
      "std               5.788247\n",
      "min               0.424721\n",
      "25%               2.770018\n",
      "50%               4.683127\n",
      "75%               8.455531\n",
      "max              43.615041\n",
      "95% CI Lower      1.043490\n",
      "95% CI Upper     22.957363\n",
      "Name: 7560, dtype: float64\n"
     ]
    }
   ],
   "source": [
    "# Generate summary statistics from the 30-year Monte Carlo simulation results\n",
    "# Save the results as a variable\n",
    "summary_table_60_40 = MC_60_40.summarize_cumulative_return()\n",
    "\n",
    "\n",
    "# Review the 30-year Monte Carlo summary statistics\n",
    "print(summary_table_60_40)"
   ]
  },
  {
   "cell_type": "markdown",
   "metadata": {},
   "source": [
    "### Analyze the Retirement Portfolio Forecasts\n",
    "\n",
    "Using the current value of only the stock and bond portion of the member's portfolio and the summary statistics that you generated from the Monte Carlo simulation, answer the following question in your Jupyter notebook:\n",
    "\n",
    "-  What are the lower and upper bounds for the expected value of the portfolio with a 95% confidence interval?\n"
   ]
  },
  {
   "cell_type": "code",
   "execution_count": 35,
   "metadata": {},
   "outputs": [
    {
     "name": "stdout",
     "output_type": "stream",
     "text": [
      "63766.7\n"
     ]
    }
   ],
   "source": [
    "# Print the current balance of the stock and bond portion of the members portfolio\n",
    "print(total_stocks_bonds)\n"
   ]
  },
  {
   "cell_type": "code",
   "execution_count": 36,
   "metadata": {},
   "outputs": [
    {
     "name": "stdout",
     "output_type": "stream",
     "text": [
      "There is a 95% chance that an initial investment of $63,767 in the portfolio with an even weight portfolio over the next 30 years will end within in the range of $66,539.91 and $1,463,915.26.\n"
     ]
    }
   ],
   "source": [
    "# Use the lower and upper `95%` confidence intervals to calculate the range of the possible outcomes for the current stock/bond portfolio\n",
    "ci_lower_thirty_cumulative_return = round(summary_table_60_40[8]*total_stocks_bonds,2)\n",
    "ci_upper_thirty_cumulative_return = round(summary_table_60_40[9]*total_stocks_bonds,2)\n",
    "\n",
    "# Print the result of your calculations\n",
    "print(f\"There is a 95% chance that an initial investment of ${round(total_stocks_bonds):,} in the portfolio\"\n",
    "      f\" with an even weight portfolio over the next 30 years will end within in the range of\"\n",
    "      f\" ${round(ci_lower_thirty_cumulative_return,2):,} and ${round(ci_upper_thirty_cumulative_return,2):,}.\")\n"
   ]
  },
  {
   "cell_type": "markdown",
   "metadata": {},
   "source": [
    "### Forecast Cumulative Returns in 10 Years\n",
    "\n",
    "The CTO of the credit union is impressed with your work on these planning tools but wonders if 30 years is a long time to wait until retirement. So, your next task is to adjust the retirement portfolio and run a new Monte Carlo simulation to find out if the changes will allow members to retire earlier.\n",
    "\n",
    "For this new Monte Carlo simulation, do the following: \n",
    "\n",
    "- Forecast the cumulative returns for 10 years from now. Because of the shortened investment horizon (30 years to 10 years), the portfolio needs to invest more heavily in the riskier asset&mdash;that is, stock&mdash;to help accumulate wealth for retirement. \n",
    "\n",
    "- Adjust the weights of the retirement portfolio so that the composition for the Monte Carlo simulation consists of 20% bonds and 80% stocks. \n",
    "\n",
    "- Run the simulation over 500 samples, and use the same data that the API call to Alpaca generated.\n",
    "\n",
    "- Based on the new Monte Carlo simulation, answer the following questions in your Jupyter notebook:\n",
    "\n",
    "    - Using the current value of only the stock and bond portion of the member's portfolio and the summary statistics that you generated from the new Monte Carlo simulation, what are the lower and upper bounds for the expected value of the portfolio (with the new weights) with a 95% confidence interval?\n",
    "\n",
    "    - Will weighting the portfolio more heavily toward stocks allow the credit union members to retire after only 10 years?\n"
   ]
  },
  {
   "cell_type": "code",
   "execution_count": 37,
   "metadata": {},
   "outputs": [
    {
     "data": {
      "text/html": [
       "<div>\n",
       "<style scoped>\n",
       "    .dataframe tbody tr th:only-of-type {\n",
       "        vertical-align: middle;\n",
       "    }\n",
       "\n",
       "    .dataframe tbody tr th {\n",
       "        vertical-align: top;\n",
       "    }\n",
       "\n",
       "    .dataframe thead tr th {\n",
       "        text-align: left;\n",
       "    }\n",
       "\n",
       "    .dataframe thead tr:last-of-type th {\n",
       "        text-align: right;\n",
       "    }\n",
       "</style>\n",
       "<table border=\"1\" class=\"dataframe\">\n",
       "  <thead>\n",
       "    <tr>\n",
       "      <th></th>\n",
       "      <th colspan=\"8\" halign=\"left\">SPY</th>\n",
       "      <th colspan=\"8\" halign=\"left\">AGG</th>\n",
       "    </tr>\n",
       "    <tr>\n",
       "      <th></th>\n",
       "      <th>open</th>\n",
       "      <th>high</th>\n",
       "      <th>low</th>\n",
       "      <th>close</th>\n",
       "      <th>volume</th>\n",
       "      <th>trade_count</th>\n",
       "      <th>vwap</th>\n",
       "      <th>daily_return</th>\n",
       "      <th>open</th>\n",
       "      <th>high</th>\n",
       "      <th>low</th>\n",
       "      <th>close</th>\n",
       "      <th>volume</th>\n",
       "      <th>trade_count</th>\n",
       "      <th>vwap</th>\n",
       "      <th>daily_return</th>\n",
       "    </tr>\n",
       "    <tr>\n",
       "      <th>timestamp</th>\n",
       "      <th></th>\n",
       "      <th></th>\n",
       "      <th></th>\n",
       "      <th></th>\n",
       "      <th></th>\n",
       "      <th></th>\n",
       "      <th></th>\n",
       "      <th></th>\n",
       "      <th></th>\n",
       "      <th></th>\n",
       "      <th></th>\n",
       "      <th></th>\n",
       "      <th></th>\n",
       "      <th></th>\n",
       "      <th></th>\n",
       "      <th></th>\n",
       "    </tr>\n",
       "  </thead>\n",
       "  <tbody>\n",
       "    <tr>\n",
       "      <th>2019-07-22 04:00:00+00:00</th>\n",
       "      <td>297.61</td>\n",
       "      <td>298.50</td>\n",
       "      <td>297.04</td>\n",
       "      <td>297.90</td>\n",
       "      <td>45137404</td>\n",
       "      <td>186383</td>\n",
       "      <td>297.748117</td>\n",
       "      <td>NaN</td>\n",
       "      <td>111.41</td>\n",
       "      <td>111.41</td>\n",
       "      <td>111.3000</td>\n",
       "      <td>111.31</td>\n",
       "      <td>2855073</td>\n",
       "      <td>7937</td>\n",
       "      <td>111.344721</td>\n",
       "      <td>NaN</td>\n",
       "    </tr>\n",
       "    <tr>\n",
       "      <th>2019-07-23 04:00:00+00:00</th>\n",
       "      <td>299.15</td>\n",
       "      <td>300.03</td>\n",
       "      <td>298.22</td>\n",
       "      <td>300.03</td>\n",
       "      <td>44935473</td>\n",
       "      <td>208847</td>\n",
       "      <td>299.177015</td>\n",
       "      <td>0.007150</td>\n",
       "      <td>111.27</td>\n",
       "      <td>111.32</td>\n",
       "      <td>111.1600</td>\n",
       "      <td>111.20</td>\n",
       "      <td>2659305</td>\n",
       "      <td>10894</td>\n",
       "      <td>111.219201</td>\n",
       "      <td>-0.000988</td>\n",
       "    </tr>\n",
       "    <tr>\n",
       "      <th>2019-07-24 04:00:00+00:00</th>\n",
       "      <td>299.16</td>\n",
       "      <td>301.44</td>\n",
       "      <td>299.09</td>\n",
       "      <td>301.44</td>\n",
       "      <td>47738870</td>\n",
       "      <td>204882</td>\n",
       "      <td>300.570907</td>\n",
       "      <td>0.004700</td>\n",
       "      <td>111.33</td>\n",
       "      <td>111.41</td>\n",
       "      <td>111.2950</td>\n",
       "      <td>111.36</td>\n",
       "      <td>2783461</td>\n",
       "      <td>12750</td>\n",
       "      <td>111.337833</td>\n",
       "      <td>0.001439</td>\n",
       "    </tr>\n",
       "    <tr>\n",
       "      <th>2019-07-25 04:00:00+00:00</th>\n",
       "      <td>300.97</td>\n",
       "      <td>301.00</td>\n",
       "      <td>299.11</td>\n",
       "      <td>300.00</td>\n",
       "      <td>55864213</td>\n",
       "      <td>266901</td>\n",
       "      <td>300.079179</td>\n",
       "      <td>-0.004777</td>\n",
       "      <td>111.33</td>\n",
       "      <td>111.33</td>\n",
       "      <td>111.0474</td>\n",
       "      <td>111.19</td>\n",
       "      <td>2977486</td>\n",
       "      <td>11325</td>\n",
       "      <td>111.190464</td>\n",
       "      <td>-0.001527</td>\n",
       "    </tr>\n",
       "    <tr>\n",
       "      <th>2019-07-26 04:00:00+00:00</th>\n",
       "      <td>300.77</td>\n",
       "      <td>302.23</td>\n",
       "      <td>300.62</td>\n",
       "      <td>302.01</td>\n",
       "      <td>45430077</td>\n",
       "      <td>195123</td>\n",
       "      <td>301.590773</td>\n",
       "      <td>0.006700</td>\n",
       "      <td>111.32</td>\n",
       "      <td>111.32</td>\n",
       "      <td>111.1400</td>\n",
       "      <td>111.21</td>\n",
       "      <td>4669863</td>\n",
       "      <td>11477</td>\n",
       "      <td>111.195450</td>\n",
       "      <td>0.000180</td>\n",
       "    </tr>\n",
       "  </tbody>\n",
       "</table>\n",
       "</div>"
      ],
      "text/plain": [
       "                              SPY                                    \\\n",
       "                             open    high     low   close    volume   \n",
       "timestamp                                                             \n",
       "2019-07-22 04:00:00+00:00  297.61  298.50  297.04  297.90  45137404   \n",
       "2019-07-23 04:00:00+00:00  299.15  300.03  298.22  300.03  44935473   \n",
       "2019-07-24 04:00:00+00:00  299.16  301.44  299.09  301.44  47738870   \n",
       "2019-07-25 04:00:00+00:00  300.97  301.00  299.11  300.00  55864213   \n",
       "2019-07-26 04:00:00+00:00  300.77  302.23  300.62  302.01  45430077   \n",
       "\n",
       "                                                                   AGG  \\\n",
       "                          trade_count        vwap daily_return    open   \n",
       "timestamp                                                                \n",
       "2019-07-22 04:00:00+00:00      186383  297.748117          NaN  111.41   \n",
       "2019-07-23 04:00:00+00:00      208847  299.177015     0.007150  111.27   \n",
       "2019-07-24 04:00:00+00:00      204882  300.570907     0.004700  111.33   \n",
       "2019-07-25 04:00:00+00:00      266901  300.079179    -0.004777  111.33   \n",
       "2019-07-26 04:00:00+00:00      195123  301.590773     0.006700  111.32   \n",
       "\n",
       "                                                                          \\\n",
       "                             high       low   close   volume trade_count   \n",
       "timestamp                                                                  \n",
       "2019-07-22 04:00:00+00:00  111.41  111.3000  111.31  2855073        7937   \n",
       "2019-07-23 04:00:00+00:00  111.32  111.1600  111.20  2659305       10894   \n",
       "2019-07-24 04:00:00+00:00  111.41  111.2950  111.36  2783461       12750   \n",
       "2019-07-25 04:00:00+00:00  111.33  111.0474  111.19  2977486       11325   \n",
       "2019-07-26 04:00:00+00:00  111.32  111.1400  111.21  4669863       11477   \n",
       "\n",
       "                                                    \n",
       "                                 vwap daily_return  \n",
       "timestamp                                           \n",
       "2019-07-22 04:00:00+00:00  111.344721          NaN  \n",
       "2019-07-23 04:00:00+00:00  111.219201    -0.000988  \n",
       "2019-07-24 04:00:00+00:00  111.337833     0.001439  \n",
       "2019-07-25 04:00:00+00:00  111.190464    -0.001527  \n",
       "2019-07-26 04:00:00+00:00  111.195450     0.000180  "
      ]
     },
     "execution_count": 37,
     "metadata": {},
     "output_type": "execute_result"
    }
   ],
   "source": [
    "# Configure a Monte Carlo simulation to forecast 10 years cumulative returns\n",
    "# The weights should be split 20% to AGG and 80% to SPY.\n",
    "# Run 500 samples.\n",
    "MC_80_20 = MCSimulation(\n",
    "    portfolio_data = prices_monte_df,\n",
    "    weights = [.8,.2],\n",
    "    num_simulation = 500,\n",
    "    num_trading_days = 252 * 10\n",
    ")\n",
    "\n",
    "# Review the simulation input data\n",
    "MC_80_20.portfolio_data.head()\n"
   ]
  },
  {
   "cell_type": "code",
   "execution_count": 38,
   "metadata": {},
   "outputs": [
    {
     "name": "stdout",
     "output_type": "stream",
     "text": [
      "Running Monte Carlo simulation number 0.\n",
      "Running Monte Carlo simulation number 10.\n",
      "Running Monte Carlo simulation number 20.\n",
      "Running Monte Carlo simulation number 30.\n",
      "Running Monte Carlo simulation number 40.\n",
      "Running Monte Carlo simulation number 50.\n",
      "Running Monte Carlo simulation number 60.\n",
      "Running Monte Carlo simulation number 70.\n",
      "Running Monte Carlo simulation number 80.\n",
      "Running Monte Carlo simulation number 90.\n",
      "Running Monte Carlo simulation number 100.\n"
     ]
    },
    {
     "name": "stderr",
     "output_type": "stream",
     "text": [
      "/Users/joshthompkins/Desktop/Fintech-Workspace/Module_5/challenge_5/MCForecastTools.py:117: PerformanceWarning: DataFrame is highly fragmented.  This is usually the result of calling `frame.insert` many times, which has poor performance.  Consider joining all columns at once using pd.concat(axis=1) instead.  To get a de-fragmented frame, use `newframe = frame.copy()`\n",
      "  portfolio_cumulative_returns[n] = (1 + sim_df.fillna(0)).cumprod()\n"
     ]
    },
    {
     "name": "stdout",
     "output_type": "stream",
     "text": [
      "Running Monte Carlo simulation number 110.\n",
      "Running Monte Carlo simulation number 120.\n",
      "Running Monte Carlo simulation number 130.\n",
      "Running Monte Carlo simulation number 140.\n",
      "Running Monte Carlo simulation number 150.\n",
      "Running Monte Carlo simulation number 160.\n",
      "Running Monte Carlo simulation number 170.\n",
      "Running Monte Carlo simulation number 180.\n",
      "Running Monte Carlo simulation number 190.\n",
      "Running Monte Carlo simulation number 200.\n",
      "Running Monte Carlo simulation number 210.\n",
      "Running Monte Carlo simulation number 220.\n",
      "Running Monte Carlo simulation number 230.\n",
      "Running Monte Carlo simulation number 240.\n",
      "Running Monte Carlo simulation number 250.\n",
      "Running Monte Carlo simulation number 260.\n",
      "Running Monte Carlo simulation number 270.\n",
      "Running Monte Carlo simulation number 280.\n",
      "Running Monte Carlo simulation number 290.\n",
      "Running Monte Carlo simulation number 300.\n",
      "Running Monte Carlo simulation number 310.\n",
      "Running Monte Carlo simulation number 320.\n",
      "Running Monte Carlo simulation number 330.\n",
      "Running Monte Carlo simulation number 340.\n",
      "Running Monte Carlo simulation number 350.\n",
      "Running Monte Carlo simulation number 360.\n",
      "Running Monte Carlo simulation number 370.\n",
      "Running Monte Carlo simulation number 380.\n",
      "Running Monte Carlo simulation number 390.\n",
      "Running Monte Carlo simulation number 400.\n",
      "Running Monte Carlo simulation number 410.\n",
      "Running Monte Carlo simulation number 420.\n",
      "Running Monte Carlo simulation number 430.\n",
      "Running Monte Carlo simulation number 440.\n",
      "Running Monte Carlo simulation number 450.\n",
      "Running Monte Carlo simulation number 460.\n",
      "Running Monte Carlo simulation number 470.\n",
      "Running Monte Carlo simulation number 480.\n",
      "Running Monte Carlo simulation number 490.\n"
     ]
    },
    {
     "data": {
      "text/html": [
       "<div>\n",
       "<style scoped>\n",
       "    .dataframe tbody tr th:only-of-type {\n",
       "        vertical-align: middle;\n",
       "    }\n",
       "\n",
       "    .dataframe tbody tr th {\n",
       "        vertical-align: top;\n",
       "    }\n",
       "\n",
       "    .dataframe thead th {\n",
       "        text-align: right;\n",
       "    }\n",
       "</style>\n",
       "<table border=\"1\" class=\"dataframe\">\n",
       "  <thead>\n",
       "    <tr style=\"text-align: right;\">\n",
       "      <th></th>\n",
       "      <th>0</th>\n",
       "      <th>1</th>\n",
       "      <th>2</th>\n",
       "      <th>3</th>\n",
       "      <th>4</th>\n",
       "      <th>5</th>\n",
       "      <th>6</th>\n",
       "      <th>7</th>\n",
       "      <th>8</th>\n",
       "      <th>9</th>\n",
       "      <th>...</th>\n",
       "      <th>490</th>\n",
       "      <th>491</th>\n",
       "      <th>492</th>\n",
       "      <th>493</th>\n",
       "      <th>494</th>\n",
       "      <th>495</th>\n",
       "      <th>496</th>\n",
       "      <th>497</th>\n",
       "      <th>498</th>\n",
       "      <th>499</th>\n",
       "    </tr>\n",
       "  </thead>\n",
       "  <tbody>\n",
       "    <tr>\n",
       "      <th>0</th>\n",
       "      <td>1.000000</td>\n",
       "      <td>1.000000</td>\n",
       "      <td>1.000000</td>\n",
       "      <td>1.000000</td>\n",
       "      <td>1.000000</td>\n",
       "      <td>1.000000</td>\n",
       "      <td>1.000000</td>\n",
       "      <td>1.000000</td>\n",
       "      <td>1.000000</td>\n",
       "      <td>1.000000</td>\n",
       "      <td>...</td>\n",
       "      <td>1.000000</td>\n",
       "      <td>1.000000</td>\n",
       "      <td>1.000000</td>\n",
       "      <td>1.000000</td>\n",
       "      <td>1.000000</td>\n",
       "      <td>1.000000</td>\n",
       "      <td>1.000000</td>\n",
       "      <td>1.000000</td>\n",
       "      <td>1.000000</td>\n",
       "      <td>1.000000</td>\n",
       "    </tr>\n",
       "    <tr>\n",
       "      <th>1</th>\n",
       "      <td>0.991898</td>\n",
       "      <td>1.026795</td>\n",
       "      <td>0.998679</td>\n",
       "      <td>0.992420</td>\n",
       "      <td>0.995987</td>\n",
       "      <td>0.980094</td>\n",
       "      <td>1.004094</td>\n",
       "      <td>1.011533</td>\n",
       "      <td>1.012066</td>\n",
       "      <td>1.011468</td>\n",
       "      <td>...</td>\n",
       "      <td>1.012888</td>\n",
       "      <td>1.004023</td>\n",
       "      <td>1.018051</td>\n",
       "      <td>1.014869</td>\n",
       "      <td>0.990358</td>\n",
       "      <td>0.991465</td>\n",
       "      <td>0.989999</td>\n",
       "      <td>1.006522</td>\n",
       "      <td>0.983444</td>\n",
       "      <td>0.996747</td>\n",
       "    </tr>\n",
       "    <tr>\n",
       "      <th>2</th>\n",
       "      <td>0.982297</td>\n",
       "      <td>1.022182</td>\n",
       "      <td>1.007904</td>\n",
       "      <td>0.987809</td>\n",
       "      <td>0.993335</td>\n",
       "      <td>0.974406</td>\n",
       "      <td>1.025545</td>\n",
       "      <td>0.994463</td>\n",
       "      <td>1.043282</td>\n",
       "      <td>1.021810</td>\n",
       "      <td>...</td>\n",
       "      <td>1.007652</td>\n",
       "      <td>1.013833</td>\n",
       "      <td>1.021489</td>\n",
       "      <td>1.005157</td>\n",
       "      <td>0.976611</td>\n",
       "      <td>0.972638</td>\n",
       "      <td>0.987691</td>\n",
       "      <td>1.009457</td>\n",
       "      <td>0.976838</td>\n",
       "      <td>0.999023</td>\n",
       "    </tr>\n",
       "    <tr>\n",
       "      <th>3</th>\n",
       "      <td>0.974162</td>\n",
       "      <td>1.029969</td>\n",
       "      <td>1.010426</td>\n",
       "      <td>0.999345</td>\n",
       "      <td>0.996292</td>\n",
       "      <td>0.988604</td>\n",
       "      <td>1.030016</td>\n",
       "      <td>0.984334</td>\n",
       "      <td>1.038936</td>\n",
       "      <td>1.026019</td>\n",
       "      <td>...</td>\n",
       "      <td>1.013517</td>\n",
       "      <td>1.015786</td>\n",
       "      <td>1.035507</td>\n",
       "      <td>1.014580</td>\n",
       "      <td>0.977614</td>\n",
       "      <td>0.979515</td>\n",
       "      <td>0.995823</td>\n",
       "      <td>0.994898</td>\n",
       "      <td>0.978370</td>\n",
       "      <td>1.003753</td>\n",
       "    </tr>\n",
       "    <tr>\n",
       "      <th>4</th>\n",
       "      <td>0.955633</td>\n",
       "      <td>1.047943</td>\n",
       "      <td>1.018202</td>\n",
       "      <td>0.988992</td>\n",
       "      <td>1.015013</td>\n",
       "      <td>1.027926</td>\n",
       "      <td>1.035140</td>\n",
       "      <td>0.969434</td>\n",
       "      <td>1.043442</td>\n",
       "      <td>1.045262</td>\n",
       "      <td>...</td>\n",
       "      <td>0.999853</td>\n",
       "      <td>1.021604</td>\n",
       "      <td>1.026669</td>\n",
       "      <td>0.992599</td>\n",
       "      <td>0.987913</td>\n",
       "      <td>0.979080</td>\n",
       "      <td>0.990129</td>\n",
       "      <td>0.997583</td>\n",
       "      <td>1.003071</td>\n",
       "      <td>0.972965</td>\n",
       "    </tr>\n",
       "    <tr>\n",
       "      <th>...</th>\n",
       "      <td>...</td>\n",
       "      <td>...</td>\n",
       "      <td>...</td>\n",
       "      <td>...</td>\n",
       "      <td>...</td>\n",
       "      <td>...</td>\n",
       "      <td>...</td>\n",
       "      <td>...</td>\n",
       "      <td>...</td>\n",
       "      <td>...</td>\n",
       "      <td>...</td>\n",
       "      <td>...</td>\n",
       "      <td>...</td>\n",
       "      <td>...</td>\n",
       "      <td>...</td>\n",
       "      <td>...</td>\n",
       "      <td>...</td>\n",
       "      <td>...</td>\n",
       "      <td>...</td>\n",
       "      <td>...</td>\n",
       "      <td>...</td>\n",
       "    </tr>\n",
       "    <tr>\n",
       "      <th>2516</th>\n",
       "      <td>0.568626</td>\n",
       "      <td>2.166452</td>\n",
       "      <td>1.193507</td>\n",
       "      <td>1.575216</td>\n",
       "      <td>4.759947</td>\n",
       "      <td>4.149731</td>\n",
       "      <td>3.491022</td>\n",
       "      <td>2.381511</td>\n",
       "      <td>3.589298</td>\n",
       "      <td>1.687341</td>\n",
       "      <td>...</td>\n",
       "      <td>0.859171</td>\n",
       "      <td>4.168639</td>\n",
       "      <td>7.490082</td>\n",
       "      <td>0.691841</td>\n",
       "      <td>1.311808</td>\n",
       "      <td>3.582816</td>\n",
       "      <td>3.024006</td>\n",
       "      <td>3.546054</td>\n",
       "      <td>2.815790</td>\n",
       "      <td>2.110967</td>\n",
       "    </tr>\n",
       "    <tr>\n",
       "      <th>2517</th>\n",
       "      <td>0.576484</td>\n",
       "      <td>2.155993</td>\n",
       "      <td>1.205975</td>\n",
       "      <td>1.592873</td>\n",
       "      <td>4.753942</td>\n",
       "      <td>4.161570</td>\n",
       "      <td>3.465984</td>\n",
       "      <td>2.397355</td>\n",
       "      <td>3.574716</td>\n",
       "      <td>1.674758</td>\n",
       "      <td>...</td>\n",
       "      <td>0.856217</td>\n",
       "      <td>4.165874</td>\n",
       "      <td>7.381834</td>\n",
       "      <td>0.699210</td>\n",
       "      <td>1.324786</td>\n",
       "      <td>3.618449</td>\n",
       "      <td>3.027148</td>\n",
       "      <td>3.488154</td>\n",
       "      <td>2.845292</td>\n",
       "      <td>2.074664</td>\n",
       "    </tr>\n",
       "    <tr>\n",
       "      <th>2518</th>\n",
       "      <td>0.574428</td>\n",
       "      <td>2.150937</td>\n",
       "      <td>1.188138</td>\n",
       "      <td>1.572325</td>\n",
       "      <td>4.773290</td>\n",
       "      <td>4.100619</td>\n",
       "      <td>3.461344</td>\n",
       "      <td>2.361583</td>\n",
       "      <td>3.573379</td>\n",
       "      <td>1.669456</td>\n",
       "      <td>...</td>\n",
       "      <td>0.881181</td>\n",
       "      <td>4.193449</td>\n",
       "      <td>7.419284</td>\n",
       "      <td>0.706910</td>\n",
       "      <td>1.350411</td>\n",
       "      <td>3.624214</td>\n",
       "      <td>3.046932</td>\n",
       "      <td>3.528833</td>\n",
       "      <td>2.848900</td>\n",
       "      <td>2.044382</td>\n",
       "    </tr>\n",
       "    <tr>\n",
       "      <th>2519</th>\n",
       "      <td>0.585773</td>\n",
       "      <td>2.192969</td>\n",
       "      <td>1.218856</td>\n",
       "      <td>1.597347</td>\n",
       "      <td>4.706831</td>\n",
       "      <td>4.067731</td>\n",
       "      <td>3.438695</td>\n",
       "      <td>2.388260</td>\n",
       "      <td>3.535011</td>\n",
       "      <td>1.655081</td>\n",
       "      <td>...</td>\n",
       "      <td>0.867921</td>\n",
       "      <td>4.114461</td>\n",
       "      <td>7.473107</td>\n",
       "      <td>0.717128</td>\n",
       "      <td>1.340820</td>\n",
       "      <td>3.659230</td>\n",
       "      <td>3.049260</td>\n",
       "      <td>3.464825</td>\n",
       "      <td>2.809808</td>\n",
       "      <td>2.043796</td>\n",
       "    </tr>\n",
       "    <tr>\n",
       "      <th>2520</th>\n",
       "      <td>0.581457</td>\n",
       "      <td>2.161465</td>\n",
       "      <td>1.226311</td>\n",
       "      <td>1.596349</td>\n",
       "      <td>4.653919</td>\n",
       "      <td>4.074612</td>\n",
       "      <td>3.368463</td>\n",
       "      <td>2.438779</td>\n",
       "      <td>3.510065</td>\n",
       "      <td>1.700250</td>\n",
       "      <td>...</td>\n",
       "      <td>0.859566</td>\n",
       "      <td>4.089771</td>\n",
       "      <td>7.642487</td>\n",
       "      <td>0.729782</td>\n",
       "      <td>1.336595</td>\n",
       "      <td>3.605869</td>\n",
       "      <td>3.121895</td>\n",
       "      <td>3.432861</td>\n",
       "      <td>2.787000</td>\n",
       "      <td>2.065229</td>\n",
       "    </tr>\n",
       "  </tbody>\n",
       "</table>\n",
       "<p>2521 rows × 500 columns</p>\n",
       "</div>"
      ],
      "text/plain": [
       "           0         1         2         3         4         5         6    \\\n",
       "0     1.000000  1.000000  1.000000  1.000000  1.000000  1.000000  1.000000   \n",
       "1     0.991898  1.026795  0.998679  0.992420  0.995987  0.980094  1.004094   \n",
       "2     0.982297  1.022182  1.007904  0.987809  0.993335  0.974406  1.025545   \n",
       "3     0.974162  1.029969  1.010426  0.999345  0.996292  0.988604  1.030016   \n",
       "4     0.955633  1.047943  1.018202  0.988992  1.015013  1.027926  1.035140   \n",
       "...        ...       ...       ...       ...       ...       ...       ...   \n",
       "2516  0.568626  2.166452  1.193507  1.575216  4.759947  4.149731  3.491022   \n",
       "2517  0.576484  2.155993  1.205975  1.592873  4.753942  4.161570  3.465984   \n",
       "2518  0.574428  2.150937  1.188138  1.572325  4.773290  4.100619  3.461344   \n",
       "2519  0.585773  2.192969  1.218856  1.597347  4.706831  4.067731  3.438695   \n",
       "2520  0.581457  2.161465  1.226311  1.596349  4.653919  4.074612  3.368463   \n",
       "\n",
       "           7         8         9    ...       490       491       492  \\\n",
       "0     1.000000  1.000000  1.000000  ...  1.000000  1.000000  1.000000   \n",
       "1     1.011533  1.012066  1.011468  ...  1.012888  1.004023  1.018051   \n",
       "2     0.994463  1.043282  1.021810  ...  1.007652  1.013833  1.021489   \n",
       "3     0.984334  1.038936  1.026019  ...  1.013517  1.015786  1.035507   \n",
       "4     0.969434  1.043442  1.045262  ...  0.999853  1.021604  1.026669   \n",
       "...        ...       ...       ...  ...       ...       ...       ...   \n",
       "2516  2.381511  3.589298  1.687341  ...  0.859171  4.168639  7.490082   \n",
       "2517  2.397355  3.574716  1.674758  ...  0.856217  4.165874  7.381834   \n",
       "2518  2.361583  3.573379  1.669456  ...  0.881181  4.193449  7.419284   \n",
       "2519  2.388260  3.535011  1.655081  ...  0.867921  4.114461  7.473107   \n",
       "2520  2.438779  3.510065  1.700250  ...  0.859566  4.089771  7.642487   \n",
       "\n",
       "           493       494       495       496       497       498       499  \n",
       "0     1.000000  1.000000  1.000000  1.000000  1.000000  1.000000  1.000000  \n",
       "1     1.014869  0.990358  0.991465  0.989999  1.006522  0.983444  0.996747  \n",
       "2     1.005157  0.976611  0.972638  0.987691  1.009457  0.976838  0.999023  \n",
       "3     1.014580  0.977614  0.979515  0.995823  0.994898  0.978370  1.003753  \n",
       "4     0.992599  0.987913  0.979080  0.990129  0.997583  1.003071  0.972965  \n",
       "...        ...       ...       ...       ...       ...       ...       ...  \n",
       "2516  0.691841  1.311808  3.582816  3.024006  3.546054  2.815790  2.110967  \n",
       "2517  0.699210  1.324786  3.618449  3.027148  3.488154  2.845292  2.074664  \n",
       "2518  0.706910  1.350411  3.624214  3.046932  3.528833  2.848900  2.044382  \n",
       "2519  0.717128  1.340820  3.659230  3.049260  3.464825  2.809808  2.043796  \n",
       "2520  0.729782  1.336595  3.605869  3.121895  3.432861  2.787000  2.065229  \n",
       "\n",
       "[2521 rows x 500 columns]"
      ]
     },
     "execution_count": 38,
     "metadata": {},
     "output_type": "execute_result"
    }
   ],
   "source": [
    "# Run the Monte Carlo simulation to forecast 10 years cumulative returns\n",
    "MC_80_20.calc_cumulative_return()\n"
   ]
  },
  {
   "cell_type": "code",
   "execution_count": 39,
   "metadata": {},
   "outputs": [
    {
     "data": {
      "image/png": "[encoded data removed]",
      "text/plain": [
       "<Figure size 432x288 with 1 Axes>"
      ]
     },
     "metadata": {
      "needs_background": "light"
     },
     "output_type": "display_data"
    }
   ],
   "source": [
    "# Visualize the 10-year Monte Carlo simulation by creating an\n",
    "# overlay line plot\n",
    "MC_80_20_line_plot = MC_80_20.plot_simulation()\n"
   ]
  },
  {
   "cell_type": "code",
   "execution_count": 40,
   "metadata": {},
   "outputs": [
    {
     "data": {
      "image/png": "[encoded data removed]",
      "text/plain": [
       "<Figure size 432x288 with 1 Axes>"
      ]
     },
     "metadata": {
      "needs_background": "light"
     },
     "output_type": "display_data"
    }
   ],
   "source": [
    "# Visualize the probability distribution of the 10-year Monte Carlo simulation \n",
    "# by plotting a histogram\n",
    "MC_80_20_distribution_plot = MC_80_20.plot_distribution()\n"
   ]
  },
  {
   "cell_type": "code",
   "execution_count": 41,
   "metadata": {},
   "outputs": [
    {
     "name": "stdout",
     "output_type": "stream",
     "text": [
      "count           500.000000\n",
      "mean              2.501137\n",
      "std               1.610018\n",
      "min               0.378597\n",
      "25%               1.377721\n",
      "50%               2.167664\n",
      "75%               3.234632\n",
      "max              13.386849\n",
      "95% CI Lower      0.643488\n",
      "95% CI Upper      6.634880\n",
      "Name: 2520, dtype: float64\n"
     ]
    }
   ],
   "source": [
    "# Generate summary statistics from the 10-year Monte Carlo simulation results\n",
    "# Save the results as a variable\n",
    "MC_80_20_summary_table = MC_80_20.summarize_cumulative_return()\n",
    "\n",
    "\n",
    "# Review the 10-year Monte Carlo summary statistics\n",
    "print(MC_80_20_summary_table)"
   ]
  },
  {
   "cell_type": "markdown",
   "metadata": {},
   "source": [
    "### Answer the following questions:"
   ]
  },
  {
   "cell_type": "markdown",
   "metadata": {},
   "source": [
    "#### Question: Using the current value of only the stock and bond portion of the member's portfolio and the summary statistics that you generated from the new Monte Carlo simulation, what are the lower and upper bounds for the expected value of the portfolio (with the new weights) with a 95% confidence interval?"
   ]
  },
  {
   "cell_type": "code",
   "execution_count": 42,
   "metadata": {},
   "outputs": [
    {
     "name": "stdout",
     "output_type": "stream",
     "text": [
      "63766.7\n"
     ]
    }
   ],
   "source": [
    "# Print the current balance of the stock and bond portion of the members portfolio\n",
    "print(total_stocks_bonds)\n"
   ]
  },
  {
   "cell_type": "code",
   "execution_count": 43,
   "metadata": {},
   "outputs": [
    {
     "name": "stdout",
     "output_type": "stream",
     "text": [
      "There is a 95% chance that an initial investment of $63,767 in the portfolio with an even weight portfolio over the next 10 years will end within in the range of $41,033.09 and $423,084.38. The average mean forecasted return is $159,489.25\n"
     ]
    }
   ],
   "source": [
    "# Use the lower and upper `95%` confidence intervals to calculate the range of the possible outcomes for the current stock/bond portfolio\n",
    "ci_lower_ten_cumulative_return = round(MC_80_20_summary_table[8]*total_stocks_bonds,2)\n",
    "ci_upper_ten_cumulative_return = round(MC_80_20_summary_table[9]*total_stocks_bonds,2)\n",
    "mean_ten_cumulative_return = round(MC_80_20_summary_table[1]*total_stocks_bonds,2)\n",
    "\n",
    "# Print the result of your calculations\n",
    "print(f\"There is a 95% chance that an initial investment of ${round(total_stocks_bonds):,} in the portfolio\"\n",
    "      f\" with an even weight portfolio over the next 10 years will end within in the range of\"\n",
    "      f\" ${round(ci_lower_ten_cumulative_return,2):,} and ${round(ci_upper_ten_cumulative_return,2):,}. The average mean forecasted\"\n",
    "      f\" return is ${round(mean_ten_cumulative_return,2):,}\")\n"
   ]
  },
  {
   "cell_type": "markdown",
   "metadata": {},
   "source": [
    "#### Question: Will weighting the portfolio more heavily to stocks allow the credit union members to retire after only 10 years?"
   ]
  },
  {
   "cell_type": "raw",
   "metadata": {},
   "source": [
    "**Answer** Not necessarily, the average return of the portfolio using 500 simulations was $161,918.64, so depending on their retirement goals, that may not be enough. Moreover, within 95% of forecasts there is the posibility to lose over 25% of your initial investment."
   ]
  },
  {
   "cell_type": "code",
   "execution_count": null,
   "metadata": {},
   "outputs": [],
   "source": []
  }
 ],
 "metadata": {
  "kernelspec": {
   "display_name": "Python 3 (ipykernel)",
   "language": "python",
   "name": "python3"
  },
  "language_info": {
   "codemirror_mode": {
    "name": "ipython",
    "version": 3
   },
   "file_extension": ".py",
   "mimetype": "text/x-python",
   "name": "python",
   "nbconvert_exporter": "python",
   "pygments_lexer": "ipython3",
   "version": "3.7.13"
  }
 },
 "nbformat": 4,
 "nbformat_minor": 4
}
